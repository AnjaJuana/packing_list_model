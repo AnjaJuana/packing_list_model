{
 "cells": [
  {
   "cell_type": "markdown",
   "id": "7b73f12d-1104-4eea-ac08-3716aa9af45b",
   "metadata": {},
   "source": [
    "Zero shot classification"
   ]
  },
  {
   "cell_type": "code",
   "execution_count": 8,
   "id": "05a29daa-b70e-4c7c-ba03-9ab641f424cb",
   "metadata": {},
   "outputs": [
    {
     "name": "stdout",
     "output_type": "stream",
     "text": [
      "{'sequence': 'I love Python!', 'labels': ['programming', 'sports'], 'scores': [0.9925740957260132, 0.007425872143357992]}\n"
     ]
    }
   ],
   "source": [
    "from dotenv import load_dotenv\n",
    "import os\n",
    "import requests\n",
    "\n",
    "load_dotenv()  # Load environment variables from .env file, contains personal access token\n",
    "\n",
    "API_URL = \"https://api-inference.huggingface.co/models/facebook/bart-large-mnli\"\n",
    "headers = {\"Authorization\": f\"Bearer {os.getenv('HF_API_TOKEN')}\"}\n",
    "\n",
    "def query(payload):\n",
    "    response = requests.post(API_URL, headers=headers, json=payload)\n",
    "    return response.json()\n",
    "\n",
    "# Example usage\n",
    "output = query({\"inputs\": \"I love Python!\", \"parameters\": {\"candidate_labels\": [\"programming\", \"sports\"]}})\n",
    "print(output)\n"
   ]
  },
  {
   "cell_type": "code",
   "execution_count": 4,
   "id": "5609f8e7-d5cc-4d53-9288-649516cd4527",
   "metadata": {},
   "outputs": [],
   "source": []
  },
  {
   "cell_type": "code",
   "execution_count": null,
   "id": "21b4f8b6-e774-45ad-8054-bf5db2b7b07c",
   "metadata": {},
   "outputs": [],
   "source": []
  }
 ],
 "metadata": {
  "kernelspec": {
   "display_name": "Python (huggingface_env)",
   "language": "python",
   "name": "huggingface_env"
  },
  "language_info": {
   "codemirror_mode": {
    "name": "ipython",
    "version": 3
   },
   "file_extension": ".py",
   "mimetype": "text/x-python",
   "name": "python",
   "nbconvert_exporter": "python",
   "pygments_lexer": "ipython3",
   "version": "3.8.20"
  }
 },
 "nbformat": 4,
 "nbformat_minor": 5
}
