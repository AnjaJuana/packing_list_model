{
 "cells": [
  {
   "cell_type": "markdown",
   "id": "7b73f12d-1104-4eea-ac08-3716aa9af45b",
   "metadata": {},
   "source": [
    "**Zero shot classification**"
   ]
  },
  {
   "cell_type": "code",
   "execution_count": 12,
   "id": "05a29daa-b70e-4c7c-ba03-9ab641f424cb",
   "metadata": {},
   "outputs": [],
   "source": [
    "from dotenv import load_dotenv\n",
    "import os\n",
    "import requests\n",
    "\n",
    "load_dotenv()  # Load environment variables from .env file, contains personal access token (HF_API_TOKEN=your_token)\n",
    "\n",
    "API_URL = \"https://api-inference.huggingface.co/models/facebook/bart-large-mnli\"\n",
    "# API_URL = \"https://api-inference.huggingface.co/models/MoritzLaurer/mDeBERTa-v3-base-mnli-xnli\"\n",
    "# API_URL = \"https://api-inference.huggingface.co/models/cross-encoder/nli-deberta-v3-base\"\n",
    "# API_URL = \"https://api-inference.huggingface.co/models/valhalla/distilbart-mnli-12-3\"\n",
    "headers = {\"Authorization\": f\"Bearer {os.getenv('HF_API_TOKEN')}\"}\n",
    "\n",
    "def query(payload):\n",
    "    response = requests.post(API_URL, headers=headers, json=payload)\n",
    "    return response.json()\n",
    "\n"
   ]
  },
  {
   "cell_type": "code",
   "execution_count": 13,
   "id": "21b4f8b6-e774-45ad-8054-bf5db2b7b07c",
   "metadata": {},
   "outputs": [
    {
     "name": "stdout",
     "output_type": "stream",
     "text": [
      "{'sequence': 'I just bought a new laptop, and it works amazing!', 'labels': ['technology', 'health', 'sports', 'politics'], 'scores': [0.9709171652793884, 0.014999167993664742, 0.008272457867860794, 0.005811102222651243]}\n"
     ]
    }
   ],
   "source": [
    "# Input text to classify\n",
    "input_text = \"I just bought a new laptop, and it works amazing!\"\n",
    "\n",
    "# Candidate labels\n",
    "candidate_labels = [\"technology\", \"sports\", \"politics\", \"health\"]\n",
    "\n",
    "# Get the prediction\n",
    "output = query({\"inputs\": input_text, \"parameters\": {\"candidate_labels\": candidate_labels}})\n",
    "print(output)\n"
   ]
  },
  {
   "cell_type": "markdown",
   "id": "fb7e69c7-b590-4b40-8478-76d055583f2a",
   "metadata": {},
   "source": [
    "**Try packing list labels**"
   ]
  },
  {
   "cell_type": "code",
   "execution_count": 14,
   "id": "c5f75916-aaf2-4ca7-8d1a-070579940952",
   "metadata": {},
   "outputs": [
    {
     "name": "stdout",
     "output_type": "stream",
     "text": [
      "{'error': ['Error in `parameters.candidate_labels`: ensure this value has at most 10 items']}\n"
     ]
    }
   ],
   "source": [
    "# Input text to classify\n",
    "input_text = \"I like to cycle and I burn easily. I also love culture and like to post on social media about my food. I will go on a trip to italy in july.\"\n",
    "\n",
    "# Candidate labels\n",
    "candidate_labels = [\n",
    "    \"Swimsuit\", \"Sunscreen\", \"Flip-flops\", \"Beach towel\", \"Sunglasses\", \n",
    "    \"Waterproof phone case\", \"Hat\", \"Beach bag\", \"Snorkel gear\", \"Aloe vera gel\",\n",
    "    \"Tent\", \"Sleeping bag\", \"Camping stove\", \"Flashlight\", \"Hiking boots\",\n",
    "    \"Water filter\", \"Compass\", \"First aid kit\", \"Bug spray\", \"Multi-tool\",\n",
    "    \"Thermal clothing\", \"Ski jacket\", \"Ski goggles\", \"Snow boots\", \"Gloves\",\n",
    "    \"Hand warmers\", \"Beanie\", \"Lip balm\", \"Snowboard\", \"Base layers\",\n",
    "    \"Passport\", \"Visa documents\", \"Travel adapter\", \"Currency\", \"Language phrasebook\",\n",
    "    \"SIM card\", \"Travel pillow\", \"Neck wallet\", \"Travel insurance documents\", \"Power bank\",\n",
    "    \"Laptop\", \"Notebook\", \"Business attire\", \"Dress shoes\", \"Charging cables\",\n",
    "    \"Presentation materials\", \"Work ID badge\", \"Pen\", \"Headphones\", \n",
    "    \"Lightweight backpack\", \"Travel-sized toiletries\", \"Packable rain jacket\",\n",
    "    \"Reusable water bottle\", \"Dry bag\", \"Trekking poles\", \"Hostel lock\", \"Quick-dry towel\",\n",
    "    \"Travel journal\", \"Energy bars\", \"Car charger\", \"Snacks\", \"Map\",\n",
    "    \"Sunglasses\", \"Cooler\", \"Blanket\", \"Emergency roadside kit\", \"Reusable coffee mug\",\n",
    "    \"Playlist\", \"Reusable shopping bags\", \"Earplugs\", \"Fanny pack\", \"Portable charger\",\n",
    "    \"Poncho\", \"Bandana\", \"Comfortable shoes\", \"Tent\", \"Refillable water bottle\",\n",
    "    \"Glow sticks\", \"Festival tickets\", \"Diapers\", \"Baby wipes\", \"Baby food\",\n",
    "    \"Stroller\", \"Pacifier\", \"Baby clothes\", \"Baby blanket\", \"Travel crib\",\n",
    "    \"Toys\", \"Nursing cover\"\n",
    "]\n",
    "\n",
    "\n",
    "# Get the prediction\n",
    "output = query({\"inputs\": input_text, \"parameters\": {\"candidate_labels\": candidate_labels}})\n",
    "print(output)"
   ]
  },
  {
   "cell_type": "markdown",
   "id": "8a6318c1-fa5f-4d16-8507-eaebe6294ac0",
   "metadata": {},
   "source": [
    "**Use batches of 10 labels and combine results**"
   ]
  },
  {
   "cell_type": "code",
   "execution_count": 16,
   "id": "fe42a222-5ff4-4442-93f4-42fc22001af6",
   "metadata": {},
   "outputs": [
    {
     "name": "stdout",
     "output_type": "stream",
     "text": [
      "{'sequence': \"I'm going on a 2-week hiking trip in the Alps during winter.\", 'labels': ['Map', 'Backpack', 'Tent', 'Thermal clothing', 'Hiking boots', 'Flashlight', 'Gloves', 'Camping stove', 'Water filter', 'Sleeping bag'], 'scores': [0.30358555912971497, 0.12884855270385742, 0.10985139012336731, 0.10500500351190567, 0.10141848027706146, 0.08342219144105911, 0.0704946368932724, 0.05127469450235367, 0.024876652285456657, 0.021222807466983795]}\n",
      "{'sequence': \"I'm going on a 2-week hiking trip in the Alps during winter.\", 'labels': ['Ski jacket', 'Snow boots', 'Hand warmers', 'Beanie', 'Ski goggles', 'Flip-flops', 'First aid kit', 'Sunscreen', 'Swimsuit', 'Lip balm'], 'scores': [0.20171622931957245, 0.1621972620487213, 0.12313881516456604, 0.10742709040641785, 0.09418268501758575, 0.08230196684598923, 0.07371978461742401, 0.06208840385079384, 0.05506424233317375, 0.038163457065820694]}\n",
      "\n",
      "Recommended packing list: ['Map', 'Backpack', 'Tent', 'Thermal clothing', 'Hiking boots', 'Ski jacket', 'Snow boots', 'Hand warmers', 'Beanie']\n"
     ]
    }
   ],
   "source": [
    "\n",
    "input_text = \"I'm going on a 2-week hiking trip in the Alps during winter.\"\n",
    "\n",
    "\n",
    "# Define the full list of possible packing items (split into groups of 10)\n",
    "candidate_labels = [\n",
    "    [\"Hiking boots\", \"Tent\", \"Sleeping bag\", \"Camping stove\", \"Backpack\",\n",
    "     \"Water filter\", \"Flashlight\", \"Thermal clothing\", \"Gloves\", \"Map\"],\n",
    "    \n",
    "    [\"Swimsuit\", \"Sunscreen\", \"Flip-flops\", \"Ski jacket\", \"Ski goggles\",\n",
    "     \"Snow boots\", \"Beanie\", \"Hand warmers\", \"Lip balm\", \"First aid kit\"]\n",
    "]\n",
    "\n",
    "# Run classification in batches\n",
    "packing_list = []\n",
    "for batch in candidate_labels:\n",
    "    result = query({\"inputs\": input_text, \"parameters\": {\"candidate_labels\": batch}})\n",
    "    print(result)\n",
    "    for label, score in zip(result[\"labels\"], result[\"scores\"]):\n",
    "        if score > 0.1:  # Adjust threshold as needed\n",
    "            packing_list.append(label)\n",
    "\n",
    "# Print the final packing list\n",
    "print(\"\\nRecommended packing list:\", packing_list)"
   ]
  },
  {
   "cell_type": "code",
   "execution_count": null,
   "id": "660072ea-b72f-4bee-a9ed-81019775ae85",
   "metadata": {},
   "outputs": [],
   "source": []
  },
  {
   "cell_type": "markdown",
   "id": "edf44387-d166-4e0f-a8ad-621230aee115",
   "metadata": {},
   "source": [
    "**Try to run a model locally**"
   ]
  },
  {
   "cell_type": "code",
   "execution_count": 1,
   "id": "d0d8f7c0-c2d9-4fbe-b1a7-699a5b99466c",
   "metadata": {},
   "outputs": [
    {
     "data": {
      "application/vnd.jupyter.widget-view+json": {
       "model_id": "5e371dee58d64e7b8bf6635e0e88f8db",
       "version_major": 2,
       "version_minor": 0
      },
      "text/plain": [
       "config.json:   0%|          | 0.00/1.72k [00:00<?, ?B/s]"
      ]
     },
     "metadata": {},
     "output_type": "display_data"
    },
    {
     "data": {
      "application/vnd.jupyter.widget-view+json": {
       "model_id": "d479e18a65314ad5927ea2bf7453db7c",
       "version_major": 2,
       "version_minor": 0
      },
      "text/plain": [
       "model.safetensors:   0%|          | 0.00/558M [00:00<?, ?B/s]"
      ]
     },
     "metadata": {},
     "output_type": "display_data"
    },
    {
     "name": "stderr",
     "output_type": "stream",
     "text": [
      "Some weights of BartForSequenceClassification were not initialized from the model checkpoint at facebook/bart-base and are newly initialized: ['classification_head.dense.bias', 'classification_head.dense.weight', 'classification_head.out_proj.bias', 'classification_head.out_proj.weight']\n",
      "You should probably TRAIN this model on a down-stream task to be able to use it for predictions and inference.\n"
     ]
    },
    {
     "data": {
      "application/vnd.jupyter.widget-view+json": {
       "model_id": "8dc911686edb4b15baa880ae657c163d",
       "version_major": 2,
       "version_minor": 0
      },
      "text/plain": [
       "vocab.json:   0%|          | 0.00/899k [00:00<?, ?B/s]"
      ]
     },
     "metadata": {},
     "output_type": "display_data"
    },
    {
     "data": {
      "application/vnd.jupyter.widget-view+json": {
       "model_id": "e60a6df28292441bb5317ef80c9de795",
       "version_major": 2,
       "version_minor": 0
      },
      "text/plain": [
       "merges.txt:   0%|          | 0.00/456k [00:00<?, ?B/s]"
      ]
     },
     "metadata": {},
     "output_type": "display_data"
    },
    {
     "data": {
      "application/vnd.jupyter.widget-view+json": {
       "model_id": "c7eaab50789b42a796d0deb3008f247e",
       "version_major": 2,
       "version_minor": 0
      },
      "text/plain": [
       "tokenizer.json:   0%|          | 0.00/1.36M [00:00<?, ?B/s]"
      ]
     },
     "metadata": {},
     "output_type": "display_data"
    },
    {
     "name": "stderr",
     "output_type": "stream",
     "text": [
      "Hardware accelerator e.g. GPU is available in the environment, but no `device` argument is passed to the `Pipeline` object. Model will be on CPU.\n",
      "Failed to determine 'entailment' label id from the label2id mapping in the model config. Setting to -1. Define a descriptive label2id mapping in the model config to ensure correct outputs.\n"
     ]
    }
   ],
   "source": [
    "from transformers import pipeline\n",
    "\n",
    "# Load the model and create a pipeline for zero-shot classification\n",
    "classifier = pipeline(\"zero-shot-classification\", model=\"facebook/bart-base\")"
   ]
  },
  {
   "cell_type": "code",
   "execution_count": 2,
   "id": "4682d620-c9a6-40ad-ab4c-268ee0ef7212",
   "metadata": {},
   "outputs": [
    {
     "name": "stderr",
     "output_type": "stream",
     "text": [
      "Asking to truncate to max_length but no maximum length is provided and the model has no predefined maximum length. Default to no truncation.\n"
     ]
    },
    {
     "name": "stdout",
     "output_type": "stream",
     "text": [
      "{'sequence': 'I like to cycle and I burn easily. I also love culture and like to post on social media about my food. I will go on a trip to italy in july.', 'labels': ['Travel-sized toiletries', 'Refillable water bottle', 'Aloe vera gel', 'Snorkel gear', 'Waterproof phone case', 'Packable rain jacket', 'Reusable shopping bags', 'Reusable coffee mug', 'Reusable water bottle', 'First aid kit', 'Travel insurance documents', 'Work ID badge', 'Lightweight backpack', 'Presentation materials', 'Flip-flops', 'Charging cables', 'Hiking boots', 'Comfortable shoes', 'Fanny pack', 'Trekking poles', 'Visa documents', 'Baby wipes', 'Quick-dry towel', 'Baby blanket', 'Hostel lock', 'Blanket', 'Business attire', 'Laptop', 'Beanie', 'Bug spray', 'Travel pillow', 'Baby clothes', 'Passport', 'Earplugs', 'Camping stove', 'Travel journal', 'Emergency roadside kit', 'Baby food', 'Pen', 'Bandana', 'Dress shoes', 'Snacks', 'Travel crib', 'Sunscreen', 'Ski goggles', 'Sunglasses', 'Sunglasses', 'Stroller', 'Lip balm', 'Notebook', 'Glow sticks', 'Cooler', 'Snowboard', 'Map', 'Thermal clothing', 'Neck wallet', 'Water filter', 'Travel adapter', 'Currency', 'Nursing cover', 'Snow boots', 'Pacifier', 'Sleeping bag', 'Car charger', 'Diapers', 'Flashlight', 'Ski jacket', 'Portable charger', 'Playlist', 'Swimsuit', 'Tent', 'Tent', 'SIM card', 'Compass', 'Multi-tool', 'Hat', 'Base layers', 'Energy bars', 'Toys', 'Power bank', 'Dry bag', 'Beach towel', 'Beach bag', 'Poncho', 'Headphones', 'Gloves', 'Festival tickets', 'Hand warmers', 'Language phrasebook'], 'scores': [0.014162097126245499, 0.013634984381496906, 0.013528786599636078, 0.013522890396416187, 0.013521893881261349, 0.013390542939305305, 0.013313423842191696, 0.01292099617421627, 0.01269496325403452, 0.01249685138463974, 0.012418625876307487, 0.012351310811936855, 0.012286719866096973, 0.012170663103461266, 0.01216645073145628, 0.012136084027588367, 0.012111806310713291, 0.01203493494540453, 0.011913969181478024, 0.011860690079629421, 0.01184084452688694, 0.011729727499186993, 0.0116303451359272, 0.011585962027311325, 0.011557267978787422, 0.011486714705824852, 0.011480122804641724, 0.011266479268670082, 0.011243777349591255, 0.011239712126553059, 0.011195540428161621, 0.011194570921361446, 0.01118150819092989, 0.011168110184371471, 0.011141857132315636, 0.01114004384726286, 0.011128030717372894, 0.0110848443582654, 0.01107991486787796, 0.01107126846909523, 0.011069754138588905, 0.011015287600457668, 0.01101327408105135, 0.010999458841979504, 0.010981021448969841, 0.010975920595228672, 0.010975920595228672, 0.010966054163873196, 0.010964509099721909, 0.01093060988932848, 0.010892837308347225, 0.010852692648768425, 0.010844447650015354, 0.010827522724866867, 0.010805405676364899, 0.010789167135953903, 0.010784591548144817, 0.010779209434986115, 0.010761956684291363, 0.010743752121925354, 0.010727204382419586, 0.010722712613642216, 0.010696588084101677, 0.01069594919681549, 0.010669016279280186, 0.010664715431630611, 0.010641842149198055, 0.01063066441565752, 0.010608346201479435, 0.010583184659481049, 0.010549037717282772, 0.010549037717282772, 0.010522513650357723, 0.010509520769119263, 0.010469724424183369, 0.010431424714624882, 0.010407780297100544, 0.010376540012657642, 0.01036670058965683, 0.010329049080610275, 0.010298855602741241, 0.01027328334748745, 0.010225902311503887, 0.010063442401587963, 0.01005304791033268, 0.010049044154584408, 0.009841262362897396, 0.009678435511887074, 0.009306504391133785]}\n"
     ]
    }
   ],
   "source": [
    "input_text = \"I like to cycle and I burn easily. I also love culture and like to post on social media about my food. I will go on a trip to italy in july.\"\n",
    "\n",
    "# Candidate labels\n",
    "candidate_labels = [\n",
    "    \"Swimsuit\", \"Sunscreen\", \"Flip-flops\", \"Beach towel\", \"Sunglasses\", \n",
    "    \"Waterproof phone case\", \"Hat\", \"Beach bag\", \"Snorkel gear\", \"Aloe vera gel\",\n",
    "    \"Tent\", \"Sleeping bag\", \"Camping stove\", \"Flashlight\", \"Hiking boots\",\n",
    "    \"Water filter\", \"Compass\", \"First aid kit\", \"Bug spray\", \"Multi-tool\",\n",
    "    \"Thermal clothing\", \"Ski jacket\", \"Ski goggles\", \"Snow boots\", \"Gloves\",\n",
    "    \"Hand warmers\", \"Beanie\", \"Lip balm\", \"Snowboard\", \"Base layers\",\n",
    "    \"Passport\", \"Visa documents\", \"Travel adapter\", \"Currency\", \"Language phrasebook\",\n",
    "    \"SIM card\", \"Travel pillow\", \"Neck wallet\", \"Travel insurance documents\", \"Power bank\",\n",
    "    \"Laptop\", \"Notebook\", \"Business attire\", \"Dress shoes\", \"Charging cables\",\n",
    "    \"Presentation materials\", \"Work ID badge\", \"Pen\", \"Headphones\", \n",
    "    \"Lightweight backpack\", \"Travel-sized toiletries\", \"Packable rain jacket\",\n",
    "    \"Reusable water bottle\", \"Dry bag\", \"Trekking poles\", \"Hostel lock\", \"Quick-dry towel\",\n",
    "    \"Travel journal\", \"Energy bars\", \"Car charger\", \"Snacks\", \"Map\",\n",
    "    \"Sunglasses\", \"Cooler\", \"Blanket\", \"Emergency roadside kit\", \"Reusable coffee mug\",\n",
    "    \"Playlist\", \"Reusable shopping bags\", \"Earplugs\", \"Fanny pack\", \"Portable charger\",\n",
    "    \"Poncho\", \"Bandana\", \"Comfortable shoes\", \"Tent\", \"Refillable water bottle\",\n",
    "    \"Glow sticks\", \"Festival tickets\", \"Diapers\", \"Baby wipes\", \"Baby food\",\n",
    "    \"Stroller\", \"Pacifier\", \"Baby clothes\", \"Baby blanket\", \"Travel crib\",\n",
    "    \"Toys\", \"Nursing cover\"\n",
    "]\n",
    "\n",
    "\n",
    "# Run the classification\n",
    "result = classifier(input_text, candidate_labels)\n",
    "\n",
    "# Print the result\n",
    "print(result)"
   ]
  },
  {
   "cell_type": "code",
   "execution_count": 4,
   "id": "ee734de6-bbcb-427d-8987-ab41286f7907",
   "metadata": {},
   "outputs": [
    {
     "name": "stdout",
     "output_type": "stream",
     "text": [
      "No prompt result: {'sequence': 'I like to cycle and I burn easily. I also love culture and like to post on social media about my food. I will go on a trip to italy in july.', 'labels': ['Travel-sized toiletries', 'Refillable water bottle', 'Aloe vera gel', 'Snorkel gear', 'Waterproof phone case', 'Packable rain jacket', 'Reusable shopping bags', 'Reusable coffee mug', 'Reusable water bottle', 'First aid kit', 'Travel insurance documents', 'Work ID badge', 'Lightweight backpack', 'Presentation materials', 'Flip-flops', 'Charging cables', 'Hiking boots', 'Comfortable shoes', 'Fanny pack', 'Trekking poles', 'Visa documents', 'Baby wipes', 'Quick-dry towel', 'Baby blanket', 'Hostel lock', 'Blanket', 'Business attire', 'Laptop', 'Beanie', 'Bug spray', 'Travel pillow', 'Baby clothes', 'Passport', 'Earplugs', 'Camping stove', 'Travel journal', 'Emergency roadside kit', 'Baby food', 'Pen', 'Bandana', 'Dress shoes', 'Snacks', 'Travel crib', 'Sunscreen', 'Ski goggles', 'Sunglasses', 'Sunglasses', 'Stroller', 'Lip balm', 'Notebook', 'Glow sticks', 'Cooler', 'Snowboard', 'Map', 'Thermal clothing', 'Neck wallet', 'Water filter', 'Travel adapter', 'Currency', 'Nursing cover', 'Snow boots', 'Pacifier', 'Sleeping bag', 'Car charger', 'Diapers', 'Flashlight', 'Ski jacket', 'Portable charger', 'Playlist', 'Swimsuit', 'Tent', 'Tent', 'SIM card', 'Compass', 'Multi-tool', 'Hat', 'Base layers', 'Energy bars', 'Toys', 'Power bank', 'Dry bag', 'Beach towel', 'Beach bag', 'Poncho', 'Headphones', 'Gloves', 'Festival tickets', 'Hand warmers', 'Language phrasebook'], 'scores': [0.014162097126245499, 0.013634984381496906, 0.013528786599636078, 0.013522890396416187, 0.013521893881261349, 0.013390542939305305, 0.013313423842191696, 0.01292099617421627, 0.01269496325403452, 0.01249685138463974, 0.012418625876307487, 0.012351310811936855, 0.012286719866096973, 0.012170663103461266, 0.01216645073145628, 0.012136084027588367, 0.012111806310713291, 0.01203493494540453, 0.011913969181478024, 0.011860690079629421, 0.01184084452688694, 0.011729727499186993, 0.0116303451359272, 0.011585962027311325, 0.011557267978787422, 0.011486714705824852, 0.011480122804641724, 0.011266479268670082, 0.011243777349591255, 0.011239712126553059, 0.011195540428161621, 0.011194570921361446, 0.01118150819092989, 0.011168110184371471, 0.011141857132315636, 0.01114004384726286, 0.011128030717372894, 0.0110848443582654, 0.01107991486787796, 0.01107126846909523, 0.011069754138588905, 0.011015287600457668, 0.01101327408105135, 0.010999458841979504, 0.010981021448969841, 0.010975920595228672, 0.010975920595228672, 0.010966054163873196, 0.010964509099721909, 0.01093060988932848, 0.010892837308347225, 0.010852692648768425, 0.010844447650015354, 0.010827522724866867, 0.010805405676364899, 0.010789167135953903, 0.010784591548144817, 0.010779209434986115, 0.010761956684291363, 0.010743752121925354, 0.010727204382419586, 0.010722712613642216, 0.010696588084101677, 0.01069594919681549, 0.010669016279280186, 0.010664715431630611, 0.010641842149198055, 0.01063066441565752, 0.010608346201479435, 0.010583184659481049, 0.010549037717282772, 0.010549037717282772, 0.010522513650357723, 0.010509520769119263, 0.010469724424183369, 0.010431424714624882, 0.010407780297100544, 0.010376540012657642, 0.01036670058965683, 0.010329049080610275, 0.010298855602741241, 0.01027328334748745, 0.010225902311503887, 0.010063442401587963, 0.01005304791033268, 0.010049044154584408, 0.009841262362897396, 0.009678435511887074, 0.009306504391133785]}\n",
      "Simple prompt result: {'sequence': 'Classify the following text: I like to cycle and I burn easily. I also love culture and like to post on social media about my food. I will go on a trip to italy in july.', 'labels': ['Beanie', 'Baby wipes', 'Bandana', 'Blanket', 'Sunglasses', 'Sunglasses', 'Laptop', 'Snacks', 'Sunscreen', 'Pen', 'Cooler', 'Snowboard', 'Passport', 'Visa documents', 'Swimsuit', 'Flashlight', 'Stroller', 'Map', 'First aid kit', 'Notebook', 'Hat', 'Currency', 'Work ID badge', 'Travel insurance documents', 'Business attire', 'Compass', 'Playlist', 'Bug spray', 'Tent', 'Tent', 'Diapers', 'Travel journal', 'Hiking boots', 'Reusable shopping bags', 'SIM card', 'Toys', 'Dress shoes', 'Waterproof phone case', 'Travel pillow', 'Refillable water bottle', 'Fanny pack', 'Baby blanket', 'Aloe vera gel', 'Snorkel gear', 'Pacifier', 'Headphones', 'Packable rain jacket', 'Poncho', 'Nursing cover', 'Comfortable shoes', 'Reusable coffee mug', 'Travel crib', 'Baby clothes', 'Presentation materials', 'Baby food', 'Sleeping bag', 'Lightweight backpack', 'Gloves', 'Portable charger', 'Trekking poles', 'Charging cables', 'Reusable water bottle', 'Neck wallet', 'Beach bag', 'Travel-sized toiletries', 'Travel adapter', 'Hostel lock', 'Thermal clothing', 'Car charger', 'Ski goggles', 'Ski jacket', 'Water filter', 'Festival tickets', 'Dry bag', 'Glow sticks', 'Beach towel', 'Earplugs', 'Emergency roadside kit', 'Energy bars', 'Flip-flops', 'Power bank', 'Base layers', 'Multi-tool', 'Lip balm', 'Snow boots', 'Camping stove', 'Language phrasebook', 'Quick-dry towel', 'Hand warmers'], 'scores': [0.01264890842139721, 0.012599444948136806, 0.012570143677294254, 0.012526584789156914, 0.012389585375785828, 0.012389585375785828, 0.012364527210593224, 0.01230380404740572, 0.012298542074859142, 0.012270253151655197, 0.012229854241013527, 0.01220495905727148, 0.012118765152990818, 0.012117634527385235, 0.012071053497493267, 0.012010455131530762, 0.011936793103814125, 0.01192997395992279, 0.011912120506167412, 0.011880943551659584, 0.011833028867840767, 0.011827920563519001, 0.011786675080657005, 0.01167998742312193, 0.011677443981170654, 0.011657523922622204, 0.011625366285443306, 0.011594071984291077, 0.011553131975233555, 0.011553131975233555, 0.011523086577653885, 0.011480786837637424, 0.011473415419459343, 0.01147217396646738, 0.011431925930082798, 0.011425730772316456, 0.011343935504555702, 0.011343770660459995, 0.011327104642987251, 0.011326944455504417, 0.011319263838231564, 0.011317456141114235, 0.011312311515212059, 0.011282983236014843, 0.011282622814178467, 0.011254322715103626, 0.01124159712344408, 0.01124107837677002, 0.011232309974730015, 0.011213844642043114, 0.011208079755306244, 0.01117243804037571, 0.01116829551756382, 0.011155499145388603, 0.01111653819680214, 0.01109777856618166, 0.011037987656891346, 0.01094602607190609, 0.010896220803260803, 0.010878080502152443, 0.010850433260202408, 0.01082550548017025, 0.010816141963005066, 0.010804249905049801, 0.010792149230837822, 0.010741529054939747, 0.010602137073874474, 0.010591085068881512, 0.01057825330644846, 0.010575213469564915, 0.010552397929131985, 0.010523049160838127, 0.010507689788937569, 0.010499889962375164, 0.010486073791980743, 0.010459543205797672, 0.010448378510773182, 0.010420002974569798, 0.010328035801649094, 0.010279028676450253, 0.010266704484820366, 0.010234605520963669, 0.01015839446336031, 0.010139248333871365, 0.010116112418472767, 0.009993079118430614, 0.009582383558154106, 0.009578485041856766, 0.009164330549538136]}\n",
      "Primed prompt result: {'sequence': 'I like to cycle and I burn easily. I also love culture and like to post on social media about my food. I will go on a trip to italy in july. What are the most important things to pack for the trip?', 'labels': ['First aid kit', 'Work ID badge', 'Travel insurance documents', 'Business attire', 'Baby wipes', 'Blanket', 'Lightweight backpack', 'Sunglasses', 'Sunglasses', 'Laptop', 'Passport', 'Beanie', 'Baby clothes', 'Snacks', 'Packable rain jacket', 'Baby food', 'Baby blanket', 'Dress shoes', 'Bug spray', 'Travel journal', 'Travel pillow', 'Visa documents', 'Emergency roadside kit', 'SIM card', 'Cooler', 'Snowboard', 'Diapers', 'Notebook', 'Bandana', 'Pen', 'Flashlight', 'Playlist', 'Sunscreen', 'Swimsuit', 'Reusable coffee mug', 'Trekking poles', 'Sleeping bag', 'Hiking boots', 'Snorkel gear', 'Reusable shopping bags', 'Portable charger', 'Fanny pack', 'Headphones', 'Currency', 'Travel adapter', 'Travel crib', 'Presentation materials', 'Waterproof phone case', 'Nursing cover', 'Beach bag', 'Stroller', 'Car charger', 'Neck wallet', 'Lip balm', 'Comfortable shoes', 'Poncho', 'Reusable water bottle', 'Energy bars', 'Map', 'Hostel lock', 'Power bank', 'Thermal clothing', 'Earplugs', 'Charging cables', 'Toys', 'Ski jacket', 'Base layers', 'Glow sticks', 'Beach towel', 'Water filter', 'Festival tickets', 'Dry bag', 'Hat', 'Tent', 'Tent', 'Refillable water bottle', 'Language phrasebook', 'Aloe vera gel', 'Compass', 'Pacifier', 'Flip-flops', 'Ski goggles', 'Multi-tool', 'Gloves', 'Hand warmers', 'Camping stove', 'Travel-sized toiletries', 'Snow boots', 'Quick-dry towel'], 'scores': [0.012642226181924343, 0.012578142806887627, 0.012538745999336243, 0.012425561435520649, 0.012400995008647442, 0.012261925265192986, 0.012229067273437977, 0.012153560295701027, 0.012153560295701027, 0.01210339181125164, 0.012102258391678333, 0.012039684690535069, 0.012032491154968739, 0.011975657194852829, 0.011946002021431923, 0.011922757141292095, 0.011885175481438637, 0.011845758184790611, 0.011840269900858402, 0.011806672438979149, 0.01180056482553482, 0.011773401871323586, 0.011741215363144875, 0.01174065750092268, 0.011731749400496483, 0.011723223142325878, 0.011705579236149788, 0.011676033027470112, 0.011644113808870316, 0.011614028364419937, 0.011587015353143215, 0.011578746140003204, 0.011557688936591148, 0.011546803638339043, 0.011509105563163757, 0.011475984007120132, 0.01144721731543541, 0.011438804678618908, 0.011421860195696354, 0.011366439051926136, 0.01136317290365696, 0.011333008296787739, 0.011315586045384407, 0.011289265938103199, 0.011265219189226627, 0.011224034242331982, 0.011222819797694683, 0.011218133382499218, 0.011181129142642021, 0.011173858307301998, 0.011144725605845451, 0.011093542911112309, 0.011058595031499863, 0.01105340477079153, 0.011039791628718376, 0.010991919785737991, 0.010979179292917252, 0.010968406684696674, 0.010962258093059063, 0.010960275307297707, 0.01094825379550457, 0.010931070894002914, 0.010906140320003033, 0.010881876572966576, 0.010842673480510712, 0.010827161371707916, 0.01073425356298685, 0.01068448182195425, 0.010633989237248898, 0.010617285966873169, 0.010612420737743378, 0.010599926114082336, 0.010555010288953781, 0.01054315734654665, 0.01054315734654665, 0.010522623546421528, 0.010487798601388931, 0.010449468158185482, 0.01028442196547985, 0.010255328379571438, 0.01023960392922163, 0.010228960774838924, 0.01004406251013279, 0.01000953372567892, 0.009991012513637543, 0.009823071770370007, 0.009754699654877186, 0.009641115553677082, 0.009604951366782188]}\n"
     ]
    }
   ],
   "source": [
    "# Example text to classify\n",
    "text = \"I like to cycle and I burn easily. I also love culture and like to post on social media about my food. I will go on a trip to italy in july.\"\n",
    "\n",
    "# No prompt\n",
    "no_prompt = text\n",
    "no_result = classifier(no_prompt, candidate_labels)\n",
    "\n",
    "\n",
    "# Simple prompt\n",
    "simple_prompt = \"Classify the following text: \" + text\n",
    "simple_result = classifier(simple_prompt, candidate_labels)\n",
    "\n",
    "# Primed prompt\n",
    "primed_prompt = \"I like to cycle and I burn easily. I also love culture and like to post on social media about my food. I will go on a trip to italy in july. What are the most important things to pack for the trip?\"\n",
    "primed_result = classifier(primed_prompt, candidate_labels)\n",
    "\n",
    "print(\"No prompt result:\", no_result)\n",
    "print(\"Simple prompt result:\", simple_result)\n",
    "print(\"Primed prompt result:\", primed_result)\n"
   ]
  },
  {
   "cell_type": "code",
   "execution_count": null,
   "id": "394f2d0f-cfc2-47b7-91b6-8a3b0dbb5aa0",
   "metadata": {},
   "outputs": [],
   "source": []
  }
 ],
 "metadata": {
  "kernelspec": {
   "display_name": "Python (huggingface_env)",
   "language": "python",
   "name": "huggingface_env"
  },
  "language_info": {
   "codemirror_mode": {
    "name": "ipython",
    "version": 3
   },
   "file_extension": ".py",
   "mimetype": "text/x-python",
   "name": "python",
   "nbconvert_exporter": "python",
   "pygments_lexer": "ipython3",
   "version": "3.8.20"
  }
 },
 "nbformat": 4,
 "nbformat_minor": 5
}
