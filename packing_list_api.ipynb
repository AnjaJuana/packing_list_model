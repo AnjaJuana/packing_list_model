{
 "cells": [
  {
   "cell_type": "markdown",
   "id": "7b73f12d-1104-4eea-ac08-3716aa9af45b",
   "metadata": {},
   "source": [
    "**Zero shot classification**"
   ]
  },
  {
   "cell_type": "code",
   "execution_count": 12,
   "id": "05a29daa-b70e-4c7c-ba03-9ab641f424cb",
   "metadata": {},
   "outputs": [],
   "source": [
    "from dotenv import load_dotenv\n",
    "import os\n",
    "import requests\n",
    "\n",
    "load_dotenv()  # Load environment variables from .env file, contains personal access token (HF_API_TOKEN=your_token)\n",
    "\n",
    "API_URL = \"https://api-inference.huggingface.co/models/facebook/bart-large-mnli\"\n",
    "# API_URL = \"https://api-inference.huggingface.co/models/MoritzLaurer/mDeBERTa-v3-base-mnli-xnli\"\n",
    "# API_URL = \"https://api-inference.huggingface.co/models/cross-encoder/nli-deberta-v3-base\"\n",
    "# API_URL = \"https://api-inference.huggingface.co/models/valhalla/distilbart-mnli-12-3\"\n",
    "headers = {\"Authorization\": f\"Bearer {os.getenv('HF_API_TOKEN')}\"}\n",
    "\n",
    "def query(payload):\n",
    "    response = requests.post(API_URL, headers=headers, json=payload)\n",
    "    return response.json()\n",
    "\n"
   ]
  },
  {
   "cell_type": "code",
   "execution_count": 13,
   "id": "21b4f8b6-e774-45ad-8054-bf5db2b7b07c",
   "metadata": {},
   "outputs": [
    {
     "name": "stdout",
     "output_type": "stream",
     "text": [
      "{'sequence': 'I just bought a new laptop, and it works amazing!', 'labels': ['technology', 'health', 'sports', 'politics'], 'scores': [0.9709171652793884, 0.014999167993664742, 0.008272457867860794, 0.005811102222651243]}\n"
     ]
    }
   ],
   "source": [
    "# Input text to classify\n",
    "input_text = \"I just bought a new laptop, and it works amazing!\"\n",
    "\n",
    "# Candidate labels\n",
    "candidate_labels = [\"technology\", \"sports\", \"politics\", \"health\"]\n",
    "\n",
    "# Get the prediction\n",
    "output = query({\"inputs\": input_text, \"parameters\": {\"candidate_labels\": candidate_labels}})\n",
    "print(output)\n"
   ]
  },
  {
   "cell_type": "markdown",
   "id": "fb7e69c7-b590-4b40-8478-76d055583f2a",
   "metadata": {},
   "source": [
    "**Try packing list labels**"
   ]
  },
  {
   "cell_type": "code",
   "execution_count": 14,
   "id": "c5f75916-aaf2-4ca7-8d1a-070579940952",
   "metadata": {},
   "outputs": [
    {
     "name": "stdout",
     "output_type": "stream",
     "text": [
      "{'error': ['Error in `parameters.candidate_labels`: ensure this value has at most 10 items']}\n"
     ]
    }
   ],
   "source": [
    "# Input text to classify\n",
    "input_text = \"I like to cycle and I burn easily. I also love culture and like to post on social media about my food. I will go on a trip to italy in july.\"\n",
    "\n",
    "# Candidate labels\n",
    "candidate_labels = [\n",
    "    \"Swimsuit\", \"Sunscreen\", \"Flip-flops\", \"Beach towel\", \"Sunglasses\", \n",
    "    \"Waterproof phone case\", \"Hat\", \"Beach bag\", \"Snorkel gear\", \"Aloe vera gel\",\n",
    "    \"Tent\", \"Sleeping bag\", \"Camping stove\", \"Flashlight\", \"Hiking boots\",\n",
    "    \"Water filter\", \"Compass\", \"First aid kit\", \"Bug spray\", \"Multi-tool\",\n",
    "    \"Thermal clothing\", \"Ski jacket\", \"Ski goggles\", \"Snow boots\", \"Gloves\",\n",
    "    \"Hand warmers\", \"Beanie\", \"Lip balm\", \"Snowboard\", \"Base layers\",\n",
    "    \"Passport\", \"Visa documents\", \"Travel adapter\", \"Currency\", \"Language phrasebook\",\n",
    "    \"SIM card\", \"Travel pillow\", \"Neck wallet\", \"Travel insurance documents\", \"Power bank\",\n",
    "    \"Laptop\", \"Notebook\", \"Business attire\", \"Dress shoes\", \"Charging cables\",\n",
    "    \"Presentation materials\", \"Work ID badge\", \"Pen\", \"Headphones\", \n",
    "    \"Lightweight backpack\", \"Travel-sized toiletries\", \"Packable rain jacket\",\n",
    "    \"Reusable water bottle\", \"Dry bag\", \"Trekking poles\", \"Hostel lock\", \"Quick-dry towel\",\n",
    "    \"Travel journal\", \"Energy bars\", \"Car charger\", \"Snacks\", \"Map\",\n",
    "    \"Sunglasses\", \"Cooler\", \"Blanket\", \"Emergency roadside kit\", \"Reusable coffee mug\",\n",
    "    \"Playlist\", \"Reusable shopping bags\", \"Earplugs\", \"Fanny pack\", \"Portable charger\",\n",
    "    \"Poncho\", \"Bandana\", \"Comfortable shoes\", \"Tent\", \"Refillable water bottle\",\n",
    "    \"Glow sticks\", \"Festival tickets\", \"Diapers\", \"Baby wipes\", \"Baby food\",\n",
    "    \"Stroller\", \"Pacifier\", \"Baby clothes\", \"Baby blanket\", \"Travel crib\",\n",
    "    \"Toys\", \"Nursing cover\"\n",
    "]\n",
    "\n",
    "\n",
    "# Get the prediction\n",
    "output = query({\"inputs\": input_text, \"parameters\": {\"candidate_labels\": candidate_labels}})\n",
    "print(output)"
   ]
  },
  {
   "cell_type": "markdown",
   "id": "8a6318c1-fa5f-4d16-8507-eaebe6294ac0",
   "metadata": {},
   "source": [
    "**Use batches of 10 labels and combine results**"
   ]
  },
  {
   "cell_type": "code",
   "execution_count": 16,
   "id": "fe42a222-5ff4-4442-93f4-42fc22001af6",
   "metadata": {},
   "outputs": [
    {
     "name": "stdout",
     "output_type": "stream",
     "text": [
      "{'sequence': \"I'm going on a 2-week hiking trip in the Alps during winter.\", 'labels': ['Map', 'Backpack', 'Tent', 'Thermal clothing', 'Hiking boots', 'Flashlight', 'Gloves', 'Camping stove', 'Water filter', 'Sleeping bag'], 'scores': [0.30358555912971497, 0.12884855270385742, 0.10985139012336731, 0.10500500351190567, 0.10141848027706146, 0.08342219144105911, 0.0704946368932724, 0.05127469450235367, 0.024876652285456657, 0.021222807466983795]}\n",
      "{'sequence': \"I'm going on a 2-week hiking trip in the Alps during winter.\", 'labels': ['Ski jacket', 'Snow boots', 'Hand warmers', 'Beanie', 'Ski goggles', 'Flip-flops', 'First aid kit', 'Sunscreen', 'Swimsuit', 'Lip balm'], 'scores': [0.20171622931957245, 0.1621972620487213, 0.12313881516456604, 0.10742709040641785, 0.09418268501758575, 0.08230196684598923, 0.07371978461742401, 0.06208840385079384, 0.05506424233317375, 0.038163457065820694]}\n",
      "\n",
      "Recommended packing list: ['Map', 'Backpack', 'Tent', 'Thermal clothing', 'Hiking boots', 'Ski jacket', 'Snow boots', 'Hand warmers', 'Beanie']\n"
     ]
    }
   ],
   "source": [
    "\n",
    "input_text = \"I'm going on a 2-week hiking trip in the Alps during winter.\"\n",
    "\n",
    "\n",
    "# Define the full list of possible packing items (split into groups of 10)\n",
    "candidate_labels = [\n",
    "    [\"Hiking boots\", \"Tent\", \"Sleeping bag\", \"Camping stove\", \"Backpack\",\n",
    "     \"Water filter\", \"Flashlight\", \"Thermal clothing\", \"Gloves\", \"Map\"],\n",
    "    \n",
    "    [\"Swimsuit\", \"Sunscreen\", \"Flip-flops\", \"Ski jacket\", \"Ski goggles\",\n",
    "     \"Snow boots\", \"Beanie\", \"Hand warmers\", \"Lip balm\", \"First aid kit\"]\n",
    "]\n",
    "\n",
    "# Run classification in batches\n",
    "packing_list = []\n",
    "for batch in candidate_labels:\n",
    "    result = query({\"inputs\": input_text, \"parameters\": {\"candidate_labels\": batch}})\n",
    "    print(result)\n",
    "    for label, score in zip(result[\"labels\"], result[\"scores\"]):\n",
    "        if score > 0.1:  # Adjust threshold as needed\n",
    "            packing_list.append(label)\n",
    "\n",
    "# Print the final packing list\n",
    "print(\"\\nRecommended packing list:\", packing_list)"
   ]
  },
  {
   "cell_type": "code",
   "execution_count": null,
   "id": "660072ea-b72f-4bee-a9ed-81019775ae85",
   "metadata": {},
   "outputs": [],
   "source": []
  },
  {
   "cell_type": "markdown",
   "id": "edf44387-d166-4e0f-a8ad-621230aee115",
   "metadata": {},
   "source": [
    "**Try to run a model locally**"
   ]
  },
  {
   "cell_type": "code",
   "execution_count": 1,
   "id": "d0d8f7c0-c2d9-4fbe-b1a7-699a5b99466c",
   "metadata": {},
   "outputs": [
    {
     "data": {
      "application/vnd.jupyter.widget-view+json": {
       "model_id": "5e371dee58d64e7b8bf6635e0e88f8db",
       "version_major": 2,
       "version_minor": 0
      },
      "text/plain": [
       "config.json:   0%|          | 0.00/1.72k [00:00<?, ?B/s]"
      ]
     },
     "metadata": {},
     "output_type": "display_data"
    },
    {
     "data": {
      "application/vnd.jupyter.widget-view+json": {
       "model_id": "d479e18a65314ad5927ea2bf7453db7c",
       "version_major": 2,
       "version_minor": 0
      },
      "text/plain": [
       "model.safetensors:   0%|          | 0.00/558M [00:00<?, ?B/s]"
      ]
     },
     "metadata": {},
     "output_type": "display_data"
    },
    {
     "name": "stderr",
     "output_type": "stream",
     "text": [
      "Some weights of BartForSequenceClassification were not initialized from the model checkpoint at facebook/bart-base and are newly initialized: ['classification_head.dense.bias', 'classification_head.dense.weight', 'classification_head.out_proj.bias', 'classification_head.out_proj.weight']\n",
      "You should probably TRAIN this model on a down-stream task to be able to use it for predictions and inference.\n"
     ]
    },
    {
     "data": {
      "application/vnd.jupyter.widget-view+json": {
       "model_id": "8dc911686edb4b15baa880ae657c163d",
       "version_major": 2,
       "version_minor": 0
      },
      "text/plain": [
       "vocab.json:   0%|          | 0.00/899k [00:00<?, ?B/s]"
      ]
     },
     "metadata": {},
     "output_type": "display_data"
    },
    {
     "data": {
      "application/vnd.jupyter.widget-view+json": {
       "model_id": "e60a6df28292441bb5317ef80c9de795",
       "version_major": 2,
       "version_minor": 0
      },
      "text/plain": [
       "merges.txt:   0%|          | 0.00/456k [00:00<?, ?B/s]"
      ]
     },
     "metadata": {},
     "output_type": "display_data"
    },
    {
     "data": {
      "application/vnd.jupyter.widget-view+json": {
       "model_id": "c7eaab50789b42a796d0deb3008f247e",
       "version_major": 2,
       "version_minor": 0
      },
      "text/plain": [
       "tokenizer.json:   0%|          | 0.00/1.36M [00:00<?, ?B/s]"
      ]
     },
     "metadata": {},
     "output_type": "display_data"
    },
    {
     "name": "stderr",
     "output_type": "stream",
     "text": [
      "Hardware accelerator e.g. GPU is available in the environment, but no `device` argument is passed to the `Pipeline` object. Model will be on CPU.\n",
      "Failed to determine 'entailment' label id from the label2id mapping in the model config. Setting to -1. Define a descriptive label2id mapping in the model config to ensure correct outputs.\n"
     ]
    }
   ],
   "source": [
    "from transformers import pipeline\n",
    "\n",
    "# Load the model and create a pipeline for zero-shot classification\n",
    "classifier = pipeline(\"zero-shot-classification\", model=\"facebook/bart-base\")"
   ]
  },
  {
   "cell_type": "code",
   "execution_count": 2,
   "id": "4682d620-c9a6-40ad-ab4c-268ee0ef7212",
   "metadata": {},
   "outputs": [
    {
     "name": "stderr",
     "output_type": "stream",
     "text": [
      "Asking to truncate to max_length but no maximum length is provided and the model has no predefined maximum length. Default to no truncation.\n"
     ]
    },
    {
     "name": "stdout",
     "output_type": "stream",
     "text": [
      "{'sequence': 'I like to cycle and I burn easily. I also love culture and like to post on social media about my food. I will go on a trip to italy in july.', 'labels': ['Travel-sized toiletries', 'Refillable water bottle', 'Aloe vera gel', 'Snorkel gear', 'Waterproof phone case', 'Packable rain jacket', 'Reusable shopping bags', 'Reusable coffee mug', 'Reusable water bottle', 'First aid kit', 'Travel insurance documents', 'Work ID badge', 'Lightweight backpack', 'Presentation materials', 'Flip-flops', 'Charging cables', 'Hiking boots', 'Comfortable shoes', 'Fanny pack', 'Trekking poles', 'Visa documents', 'Baby wipes', 'Quick-dry towel', 'Baby blanket', 'Hostel lock', 'Blanket', 'Business attire', 'Laptop', 'Beanie', 'Bug spray', 'Travel pillow', 'Baby clothes', 'Passport', 'Earplugs', 'Camping stove', 'Travel journal', 'Emergency roadside kit', 'Baby food', 'Pen', 'Bandana', 'Dress shoes', 'Snacks', 'Travel crib', 'Sunscreen', 'Ski goggles', 'Sunglasses', 'Sunglasses', 'Stroller', 'Lip balm', 'Notebook', 'Glow sticks', 'Cooler', 'Snowboard', 'Map', 'Thermal clothing', 'Neck wallet', 'Water filter', 'Travel adapter', 'Currency', 'Nursing cover', 'Snow boots', 'Pacifier', 'Sleeping bag', 'Car charger', 'Diapers', 'Flashlight', 'Ski jacket', 'Portable charger', 'Playlist', 'Swimsuit', 'Tent', 'Tent', 'SIM card', 'Compass', 'Multi-tool', 'Hat', 'Base layers', 'Energy bars', 'Toys', 'Power bank', 'Dry bag', 'Beach towel', 'Beach bag', 'Poncho', 'Headphones', 'Gloves', 'Festival tickets', 'Hand warmers', 'Language phrasebook'], 'scores': [0.014162097126245499, 0.013634984381496906, 0.013528786599636078, 0.013522890396416187, 0.013521893881261349, 0.013390542939305305, 0.013313423842191696, 0.01292099617421627, 0.01269496325403452, 0.01249685138463974, 0.012418625876307487, 0.012351310811936855, 0.012286719866096973, 0.012170663103461266, 0.01216645073145628, 0.012136084027588367, 0.012111806310713291, 0.01203493494540453, 0.011913969181478024, 0.011860690079629421, 0.01184084452688694, 0.011729727499186993, 0.0116303451359272, 0.011585962027311325, 0.011557267978787422, 0.011486714705824852, 0.011480122804641724, 0.011266479268670082, 0.011243777349591255, 0.011239712126553059, 0.011195540428161621, 0.011194570921361446, 0.01118150819092989, 0.011168110184371471, 0.011141857132315636, 0.01114004384726286, 0.011128030717372894, 0.0110848443582654, 0.01107991486787796, 0.01107126846909523, 0.011069754138588905, 0.011015287600457668, 0.01101327408105135, 0.010999458841979504, 0.010981021448969841, 0.010975920595228672, 0.010975920595228672, 0.010966054163873196, 0.010964509099721909, 0.01093060988932848, 0.010892837308347225, 0.010852692648768425, 0.010844447650015354, 0.010827522724866867, 0.010805405676364899, 0.010789167135953903, 0.010784591548144817, 0.010779209434986115, 0.010761956684291363, 0.010743752121925354, 0.010727204382419586, 0.010722712613642216, 0.010696588084101677, 0.01069594919681549, 0.010669016279280186, 0.010664715431630611, 0.010641842149198055, 0.01063066441565752, 0.010608346201479435, 0.010583184659481049, 0.010549037717282772, 0.010549037717282772, 0.010522513650357723, 0.010509520769119263, 0.010469724424183369, 0.010431424714624882, 0.010407780297100544, 0.010376540012657642, 0.01036670058965683, 0.010329049080610275, 0.010298855602741241, 0.01027328334748745, 0.010225902311503887, 0.010063442401587963, 0.01005304791033268, 0.010049044154584408, 0.009841262362897396, 0.009678435511887074, 0.009306504391133785]}\n"
     ]
    }
   ],
   "source": [
    "input_text = \"I like to cycle and I burn easily. I also love culture and like to post on social media about my food. I will go on a trip to italy in july.\"\n",
    "\n",
    "# Candidate labels\n",
    "candidate_labels = [\n",
    "    \"Swimsuit\", \"Sunscreen\", \"Flip-flops\", \"Beach towel\", \"Sunglasses\", \n",
    "    \"Waterproof phone case\", \"Hat\", \"Beach bag\", \"Snorkel gear\", \"Aloe vera gel\",\n",
    "    \"Tent\", \"Sleeping bag\", \"Camping stove\", \"Flashlight\", \"Hiking boots\",\n",
    "    \"Water filter\", \"Compass\", \"First aid kit\", \"Bug spray\", \"Multi-tool\",\n",
    "    \"Thermal clothing\", \"Ski jacket\", \"Ski goggles\", \"Snow boots\", \"Gloves\",\n",
    "    \"Hand warmers\", \"Beanie\", \"Lip balm\", \"Snowboard\", \"Base layers\",\n",
    "    \"Passport\", \"Visa documents\", \"Travel adapter\", \"Currency\", \"Language phrasebook\",\n",
    "    \"SIM card\", \"Travel pillow\", \"Neck wallet\", \"Travel insurance documents\", \"Power bank\",\n",
    "    \"Laptop\", \"Notebook\", \"Business attire\", \"Dress shoes\", \"Charging cables\",\n",
    "    \"Presentation materials\", \"Work ID badge\", \"Pen\", \"Headphones\", \n",
    "    \"Lightweight backpack\", \"Travel-sized toiletries\", \"Packable rain jacket\",\n",
    "    \"Reusable water bottle\", \"Dry bag\", \"Trekking poles\", \"Hostel lock\", \"Quick-dry towel\",\n",
    "    \"Travel journal\", \"Energy bars\", \"Car charger\", \"Snacks\", \"Map\",\n",
    "    \"Sunglasses\", \"Cooler\", \"Blanket\", \"Emergency roadside kit\", \"Reusable coffee mug\",\n",
    "    \"Playlist\", \"Reusable shopping bags\", \"Earplugs\", \"Fanny pack\", \"Portable charger\",\n",
    "    \"Poncho\", \"Bandana\", \"Comfortable shoes\", \"Tent\", \"Refillable water bottle\",\n",
    "    \"Glow sticks\", \"Festival tickets\", \"Diapers\", \"Baby wipes\", \"Baby food\",\n",
    "    \"Stroller\", \"Pacifier\", \"Baby clothes\", \"Baby blanket\", \"Travel crib\",\n",
    "    \"Toys\", \"Nursing cover\"\n",
    "]\n",
    "\n",
    "\n",
    "# Run the classification\n",
    "result = classifier(input_text, candidate_labels)\n",
    "\n",
    "# Print the result\n",
    "print(result)"
   ]
  },
  {
   "cell_type": "code",
   "execution_count": null,
   "id": "a344a80f-7645-4c2c-b960-580aa0b345f6",
   "metadata": {},
   "outputs": [],
   "source": []
  },
  {
   "cell_type": "code",
   "execution_count": null,
   "id": "5eb705d6-c31c-406c-9739-ff45b66c7ca4",
   "metadata": {},
   "outputs": [],
   "source": []
  },
  {
   "cell_type": "code",
   "execution_count": 12,
   "id": "ee734de6-bbcb-427d-8987-ab41286f7907",
   "metadata": {},
   "outputs": [],
   "source": [
    "# Example text to classify\n",
    "text = \"I like to cycle and I burn easily. I also love culture and like to post on social media about my food. I will go on a trip to italy in july.\"\n",
    "\n",
    "# No prompt\n",
    "no_prompt = text\n",
    "no_result = classifier(no_prompt, candidate_labels)\n",
    "\n",
    "\n",
    "# Simple prompt\n",
    "simple_prompt = \"Classify the following text: \" + text\n",
    "simple_result = classifier(simple_prompt, candidate_labels)\n",
    "\n",
    "# Primed prompt\n",
    "primed_prompt = \"I like to cycle and I burn easily. I also love culture and like to post on social media about my food. I will go on a trip to italy in july. What are the most important things to pack for the trip?\"\n",
    "primed_result = classifier(primed_prompt, candidate_labels)"
   ]
  },
  {
   "cell_type": "code",
   "execution_count": 13,
   "id": "96deb877-b3b0-4048-9960-d8b0b0d56cd0",
   "metadata": {},
   "outputs": [
    {
     "name": "stdout",
     "output_type": "stream",
     "text": [
      "+----------------------------+-------------+----------------------------+-----------------+----------------------------+-----------------+\n",
      "| no_prompt                  |   no_prompt | simple_prompt              |   simple_prompt | primed_prompt              |   primed_prompt |\n",
      "+============================+=============+============================+=================+============================+=================+\n",
      "| Travel-sized toiletries    |  0.0141621  | Beanie                     |      0.0126489  | First aid kit              |      0.0126422  |\n",
      "+----------------------------+-------------+----------------------------+-----------------+----------------------------+-----------------+\n",
      "| Refillable water bottle    |  0.013635   | Baby wipes                 |      0.0125994  | Work ID badge              |      0.0125781  |\n",
      "+----------------------------+-------------+----------------------------+-----------------+----------------------------+-----------------+\n",
      "| Aloe vera gel              |  0.0135288  | Bandana                    |      0.0125701  | Travel insurance documents |      0.0125387  |\n",
      "+----------------------------+-------------+----------------------------+-----------------+----------------------------+-----------------+\n",
      "| Snorkel gear               |  0.0135229  | Blanket                    |      0.0125266  | Business attire            |      0.0124256  |\n",
      "+----------------------------+-------------+----------------------------+-----------------+----------------------------+-----------------+\n",
      "| Waterproof phone case      |  0.0135219  | Sunglasses                 |      0.0123896  | Baby wipes                 |      0.012401   |\n",
      "+----------------------------+-------------+----------------------------+-----------------+----------------------------+-----------------+\n",
      "| Packable rain jacket       |  0.0133905  | Sunglasses                 |      0.0123896  | Blanket                    |      0.0122619  |\n",
      "+----------------------------+-------------+----------------------------+-----------------+----------------------------+-----------------+\n",
      "| Reusable shopping bags     |  0.0133134  | Laptop                     |      0.0123645  | Lightweight backpack       |      0.0122291  |\n",
      "+----------------------------+-------------+----------------------------+-----------------+----------------------------+-----------------+\n",
      "| Reusable coffee mug        |  0.012921   | Snacks                     |      0.0123038  | Sunglasses                 |      0.0121536  |\n",
      "+----------------------------+-------------+----------------------------+-----------------+----------------------------+-----------------+\n",
      "| Reusable water bottle      |  0.012695   | Sunscreen                  |      0.0122985  | Sunglasses                 |      0.0121536  |\n",
      "+----------------------------+-------------+----------------------------+-----------------+----------------------------+-----------------+\n",
      "| First aid kit              |  0.0124969  | Pen                        |      0.0122703  | Laptop                     |      0.0121034  |\n",
      "+----------------------------+-------------+----------------------------+-----------------+----------------------------+-----------------+\n",
      "| Travel insurance documents |  0.0124186  | Cooler                     |      0.0122299  | Passport                   |      0.0121023  |\n",
      "+----------------------------+-------------+----------------------------+-----------------+----------------------------+-----------------+\n",
      "| Work ID badge              |  0.0123513  | Snowboard                  |      0.012205   | Beanie                     |      0.0120397  |\n",
      "+----------------------------+-------------+----------------------------+-----------------+----------------------------+-----------------+\n",
      "| Lightweight backpack       |  0.0122867  | Passport                   |      0.0121188  | Baby clothes               |      0.0120325  |\n",
      "+----------------------------+-------------+----------------------------+-----------------+----------------------------+-----------------+\n",
      "| Presentation materials     |  0.0121707  | Visa documents             |      0.0121176  | Snacks                     |      0.0119757  |\n",
      "+----------------------------+-------------+----------------------------+-----------------+----------------------------+-----------------+\n",
      "| Flip-flops                 |  0.0121665  | Swimsuit                   |      0.0120711  | Packable rain jacket       |      0.011946   |\n",
      "+----------------------------+-------------+----------------------------+-----------------+----------------------------+-----------------+\n",
      "| Charging cables            |  0.0121361  | Flashlight                 |      0.0120105  | Baby food                  |      0.0119228  |\n",
      "+----------------------------+-------------+----------------------------+-----------------+----------------------------+-----------------+\n",
      "| Hiking boots               |  0.0121118  | Stroller                   |      0.0119368  | Baby blanket               |      0.0118852  |\n",
      "+----------------------------+-------------+----------------------------+-----------------+----------------------------+-----------------+\n",
      "| Comfortable shoes          |  0.0120349  | Map                        |      0.01193    | Dress shoes                |      0.0118458  |\n",
      "+----------------------------+-------------+----------------------------+-----------------+----------------------------+-----------------+\n",
      "| Fanny pack                 |  0.011914   | First aid kit              |      0.0119121  | Bug spray                  |      0.0118403  |\n",
      "+----------------------------+-------------+----------------------------+-----------------+----------------------------+-----------------+\n",
      "| Trekking poles             |  0.0118607  | Notebook                   |      0.0118809  | Travel journal             |      0.0118067  |\n",
      "+----------------------------+-------------+----------------------------+-----------------+----------------------------+-----------------+\n",
      "| Visa documents             |  0.0118408  | Hat                        |      0.011833   | Travel pillow              |      0.0118006  |\n",
      "+----------------------------+-------------+----------------------------+-----------------+----------------------------+-----------------+\n",
      "| Baby wipes                 |  0.0117297  | Currency                   |      0.0118279  | Visa documents             |      0.0117734  |\n",
      "+----------------------------+-------------+----------------------------+-----------------+----------------------------+-----------------+\n",
      "| Quick-dry towel            |  0.0116303  | Work ID badge              |      0.0117867  | Emergency roadside kit     |      0.0117412  |\n",
      "+----------------------------+-------------+----------------------------+-----------------+----------------------------+-----------------+\n",
      "| Baby blanket               |  0.011586   | Travel insurance documents |      0.01168    | SIM card                   |      0.0117407  |\n",
      "+----------------------------+-------------+----------------------------+-----------------+----------------------------+-----------------+\n",
      "| Hostel lock                |  0.0115573  | Business attire            |      0.0116774  | Cooler                     |      0.0117317  |\n",
      "+----------------------------+-------------+----------------------------+-----------------+----------------------------+-----------------+\n",
      "| Blanket                    |  0.0114867  | Compass                    |      0.0116575  | Snowboard                  |      0.0117232  |\n",
      "+----------------------------+-------------+----------------------------+-----------------+----------------------------+-----------------+\n",
      "| Business attire            |  0.0114801  | Playlist                   |      0.0116254  | Diapers                    |      0.0117056  |\n",
      "+----------------------------+-------------+----------------------------+-----------------+----------------------------+-----------------+\n",
      "| Laptop                     |  0.0112665  | Bug spray                  |      0.0115941  | Notebook                   |      0.011676   |\n",
      "+----------------------------+-------------+----------------------------+-----------------+----------------------------+-----------------+\n",
      "| Beanie                     |  0.0112438  | Tent                       |      0.0115531  | Bandana                    |      0.0116441  |\n",
      "+----------------------------+-------------+----------------------------+-----------------+----------------------------+-----------------+\n",
      "| Bug spray                  |  0.0112397  | Tent                       |      0.0115531  | Pen                        |      0.011614   |\n",
      "+----------------------------+-------------+----------------------------+-----------------+----------------------------+-----------------+\n",
      "| Travel pillow              |  0.0111955  | Diapers                    |      0.0115231  | Flashlight                 |      0.011587   |\n",
      "+----------------------------+-------------+----------------------------+-----------------+----------------------------+-----------------+\n",
      "| Baby clothes               |  0.0111946  | Travel journal             |      0.0114808  | Playlist                   |      0.0115787  |\n",
      "+----------------------------+-------------+----------------------------+-----------------+----------------------------+-----------------+\n",
      "| Passport                   |  0.0111815  | Hiking boots               |      0.0114734  | Sunscreen                  |      0.0115577  |\n",
      "+----------------------------+-------------+----------------------------+-----------------+----------------------------+-----------------+\n",
      "| Earplugs                   |  0.0111681  | Reusable shopping bags     |      0.0114722  | Swimsuit                   |      0.0115468  |\n",
      "+----------------------------+-------------+----------------------------+-----------------+----------------------------+-----------------+\n",
      "| Camping stove              |  0.0111419  | SIM card                   |      0.0114319  | Reusable coffee mug        |      0.0115091  |\n",
      "+----------------------------+-------------+----------------------------+-----------------+----------------------------+-----------------+\n",
      "| Travel journal             |  0.01114    | Toys                       |      0.0114257  | Trekking poles             |      0.011476   |\n",
      "+----------------------------+-------------+----------------------------+-----------------+----------------------------+-----------------+\n",
      "| Emergency roadside kit     |  0.011128   | Dress shoes                |      0.0113439  | Sleeping bag               |      0.0114472  |\n",
      "+----------------------------+-------------+----------------------------+-----------------+----------------------------+-----------------+\n",
      "| Baby food                  |  0.0110848  | Waterproof phone case      |      0.0113438  | Hiking boots               |      0.0114388  |\n",
      "+----------------------------+-------------+----------------------------+-----------------+----------------------------+-----------------+\n",
      "| Pen                        |  0.0110799  | Travel pillow              |      0.0113271  | Snorkel gear               |      0.0114219  |\n",
      "+----------------------------+-------------+----------------------------+-----------------+----------------------------+-----------------+\n",
      "| Bandana                    |  0.0110713  | Refillable water bottle    |      0.0113269  | Reusable shopping bags     |      0.0113664  |\n",
      "+----------------------------+-------------+----------------------------+-----------------+----------------------------+-----------------+\n",
      "| Dress shoes                |  0.0110698  | Fanny pack                 |      0.0113193  | Portable charger           |      0.0113632  |\n",
      "+----------------------------+-------------+----------------------------+-----------------+----------------------------+-----------------+\n",
      "| Snacks                     |  0.0110153  | Baby blanket               |      0.0113175  | Fanny pack                 |      0.011333   |\n",
      "+----------------------------+-------------+----------------------------+-----------------+----------------------------+-----------------+\n",
      "| Travel crib                |  0.0110133  | Aloe vera gel              |      0.0113123  | Headphones                 |      0.0113156  |\n",
      "+----------------------------+-------------+----------------------------+-----------------+----------------------------+-----------------+\n",
      "| Sunscreen                  |  0.0109995  | Snorkel gear               |      0.011283   | Currency                   |      0.0112893  |\n",
      "+----------------------------+-------------+----------------------------+-----------------+----------------------------+-----------------+\n",
      "| Ski goggles                |  0.010981   | Pacifier                   |      0.0112826  | Travel adapter             |      0.0112652  |\n",
      "+----------------------------+-------------+----------------------------+-----------------+----------------------------+-----------------+\n",
      "| Sunglasses                 |  0.0109759  | Headphones                 |      0.0112543  | Travel crib                |      0.011224   |\n",
      "+----------------------------+-------------+----------------------------+-----------------+----------------------------+-----------------+\n",
      "| Sunglasses                 |  0.0109759  | Packable rain jacket       |      0.0112416  | Presentation materials     |      0.0112228  |\n",
      "+----------------------------+-------------+----------------------------+-----------------+----------------------------+-----------------+\n",
      "| Stroller                   |  0.0109661  | Poncho                     |      0.0112411  | Waterproof phone case      |      0.0112181  |\n",
      "+----------------------------+-------------+----------------------------+-----------------+----------------------------+-----------------+\n",
      "| Lip balm                   |  0.0109645  | Nursing cover              |      0.0112323  | Nursing cover              |      0.0111811  |\n",
      "+----------------------------+-------------+----------------------------+-----------------+----------------------------+-----------------+\n",
      "| Notebook                   |  0.0109306  | Comfortable shoes          |      0.0112138  | Beach bag                  |      0.0111739  |\n",
      "+----------------------------+-------------+----------------------------+-----------------+----------------------------+-----------------+\n",
      "| Glow sticks                |  0.0108928  | Reusable coffee mug        |      0.0112081  | Stroller                   |      0.0111447  |\n",
      "+----------------------------+-------------+----------------------------+-----------------+----------------------------+-----------------+\n",
      "| Cooler                     |  0.0108527  | Travel crib                |      0.0111724  | Car charger                |      0.0110935  |\n",
      "+----------------------------+-------------+----------------------------+-----------------+----------------------------+-----------------+\n",
      "| Snowboard                  |  0.0108444  | Baby clothes               |      0.0111683  | Neck wallet                |      0.0110586  |\n",
      "+----------------------------+-------------+----------------------------+-----------------+----------------------------+-----------------+\n",
      "| Map                        |  0.0108275  | Presentation materials     |      0.0111555  | Lip balm                   |      0.0110534  |\n",
      "+----------------------------+-------------+----------------------------+-----------------+----------------------------+-----------------+\n",
      "| Thermal clothing           |  0.0108054  | Baby food                  |      0.0111165  | Comfortable shoes          |      0.0110398  |\n",
      "+----------------------------+-------------+----------------------------+-----------------+----------------------------+-----------------+\n",
      "| Neck wallet                |  0.0107892  | Sleeping bag               |      0.0110978  | Poncho                     |      0.0109919  |\n",
      "+----------------------------+-------------+----------------------------+-----------------+----------------------------+-----------------+\n",
      "| Water filter               |  0.0107846  | Lightweight backpack       |      0.011038   | Reusable water bottle      |      0.0109792  |\n",
      "+----------------------------+-------------+----------------------------+-----------------+----------------------------+-----------------+\n",
      "| Travel adapter             |  0.0107792  | Gloves                     |      0.010946   | Energy bars                |      0.0109684  |\n",
      "+----------------------------+-------------+----------------------------+-----------------+----------------------------+-----------------+\n",
      "| Currency                   |  0.010762   | Portable charger           |      0.0108962  | Map                        |      0.0109623  |\n",
      "+----------------------------+-------------+----------------------------+-----------------+----------------------------+-----------------+\n",
      "| Nursing cover              |  0.0107438  | Trekking poles             |      0.0108781  | Hostel lock                |      0.0109603  |\n",
      "+----------------------------+-------------+----------------------------+-----------------+----------------------------+-----------------+\n",
      "| Snow boots                 |  0.0107272  | Charging cables            |      0.0108504  | Power bank                 |      0.0109483  |\n",
      "+----------------------------+-------------+----------------------------+-----------------+----------------------------+-----------------+\n",
      "| Pacifier                   |  0.0107227  | Reusable water bottle      |      0.0108255  | Thermal clothing           |      0.0109311  |\n",
      "+----------------------------+-------------+----------------------------+-----------------+----------------------------+-----------------+\n",
      "| Sleeping bag               |  0.0106966  | Neck wallet                |      0.0108161  | Earplugs                   |      0.0109061  |\n",
      "+----------------------------+-------------+----------------------------+-----------------+----------------------------+-----------------+\n",
      "| Car charger                |  0.0106959  | Beach bag                  |      0.0108042  | Charging cables            |      0.0108819  |\n",
      "+----------------------------+-------------+----------------------------+-----------------+----------------------------+-----------------+\n",
      "| Diapers                    |  0.010669   | Travel-sized toiletries    |      0.0107921  | Toys                       |      0.0108427  |\n",
      "+----------------------------+-------------+----------------------------+-----------------+----------------------------+-----------------+\n",
      "| Flashlight                 |  0.0106647  | Travel adapter             |      0.0107415  | Ski jacket                 |      0.0108272  |\n",
      "+----------------------------+-------------+----------------------------+-----------------+----------------------------+-----------------+\n",
      "| Ski jacket                 |  0.0106418  | Hostel lock                |      0.0106021  | Base layers                |      0.0107343  |\n",
      "+----------------------------+-------------+----------------------------+-----------------+----------------------------+-----------------+\n",
      "| Portable charger           |  0.0106307  | Thermal clothing           |      0.0105911  | Glow sticks                |      0.0106845  |\n",
      "+----------------------------+-------------+----------------------------+-----------------+----------------------------+-----------------+\n",
      "| Playlist                   |  0.0106083  | Car charger                |      0.0105783  | Beach towel                |      0.010634   |\n",
      "+----------------------------+-------------+----------------------------+-----------------+----------------------------+-----------------+\n",
      "| Swimsuit                   |  0.0105832  | Ski goggles                |      0.0105752  | Water filter               |      0.0106173  |\n",
      "+----------------------------+-------------+----------------------------+-----------------+----------------------------+-----------------+\n",
      "| Tent                       |  0.010549   | Ski jacket                 |      0.0105524  | Festival tickets           |      0.0106124  |\n",
      "+----------------------------+-------------+----------------------------+-----------------+----------------------------+-----------------+\n",
      "| Tent                       |  0.010549   | Water filter               |      0.010523   | Dry bag                    |      0.0105999  |\n",
      "+----------------------------+-------------+----------------------------+-----------------+----------------------------+-----------------+\n",
      "| SIM card                   |  0.0105225  | Festival tickets           |      0.0105077  | Hat                        |      0.010555   |\n",
      "+----------------------------+-------------+----------------------------+-----------------+----------------------------+-----------------+\n",
      "| Compass                    |  0.0105095  | Dry bag                    |      0.0104999  | Tent                       |      0.0105432  |\n",
      "+----------------------------+-------------+----------------------------+-----------------+----------------------------+-----------------+\n",
      "| Multi-tool                 |  0.0104697  | Glow sticks                |      0.0104861  | Tent                       |      0.0105432  |\n",
      "+----------------------------+-------------+----------------------------+-----------------+----------------------------+-----------------+\n",
      "| Hat                        |  0.0104314  | Beach towel                |      0.0104595  | Refillable water bottle    |      0.0105226  |\n",
      "+----------------------------+-------------+----------------------------+-----------------+----------------------------+-----------------+\n",
      "| Base layers                |  0.0104078  | Earplugs                   |      0.0104484  | Language phrasebook        |      0.0104878  |\n",
      "+----------------------------+-------------+----------------------------+-----------------+----------------------------+-----------------+\n",
      "| Energy bars                |  0.0103765  | Emergency roadside kit     |      0.01042    | Aloe vera gel              |      0.0104495  |\n",
      "+----------------------------+-------------+----------------------------+-----------------+----------------------------+-----------------+\n",
      "| Toys                       |  0.0103667  | Energy bars                |      0.010328   | Compass                    |      0.0102844  |\n",
      "+----------------------------+-------------+----------------------------+-----------------+----------------------------+-----------------+\n",
      "| Power bank                 |  0.010329   | Flip-flops                 |      0.010279   | Pacifier                   |      0.0102553  |\n",
      "+----------------------------+-------------+----------------------------+-----------------+----------------------------+-----------------+\n",
      "| Dry bag                    |  0.0102989  | Power bank                 |      0.0102667  | Flip-flops                 |      0.0102396  |\n",
      "+----------------------------+-------------+----------------------------+-----------------+----------------------------+-----------------+\n",
      "| Beach towel                |  0.0102733  | Base layers                |      0.0102346  | Ski goggles                |      0.010229   |\n",
      "+----------------------------+-------------+----------------------------+-----------------+----------------------------+-----------------+\n",
      "| Beach bag                  |  0.0102259  | Multi-tool                 |      0.0101584  | Multi-tool                 |      0.0100441  |\n",
      "+----------------------------+-------------+----------------------------+-----------------+----------------------------+-----------------+\n",
      "| Poncho                     |  0.0100634  | Lip balm                   |      0.0101392  | Gloves                     |      0.0100095  |\n",
      "+----------------------------+-------------+----------------------------+-----------------+----------------------------+-----------------+\n",
      "| Headphones                 |  0.010053   | Snow boots                 |      0.0101161  | Hand warmers               |      0.00999101 |\n",
      "+----------------------------+-------------+----------------------------+-----------------+----------------------------+-----------------+\n",
      "| Gloves                     |  0.010049   | Camping stove              |      0.00999308 | Camping stove              |      0.00982307 |\n",
      "+----------------------------+-------------+----------------------------+-----------------+----------------------------+-----------------+\n",
      "| Festival tickets           |  0.00984126 | Language phrasebook        |      0.00958238 | Travel-sized toiletries    |      0.0097547  |\n",
      "+----------------------------+-------------+----------------------------+-----------------+----------------------------+-----------------+\n",
      "| Hand warmers               |  0.00967844 | Quick-dry towel            |      0.00957849 | Snow boots                 |      0.00964112 |\n",
      "+----------------------------+-------------+----------------------------+-----------------+----------------------------+-----------------+\n",
      "| Language phrasebook        |  0.0093065  | Hand warmers               |      0.00916433 | Quick-dry towel            |      0.00960495 |\n",
      "+----------------------------+-------------+----------------------------+-----------------+----------------------------+-----------------+\n"
     ]
    }
   ],
   "source": [
    "from tabulate import tabulate\n",
    "\n",
    "\n",
    "# Creating a table\n",
    "table = zip(no_result[\"labels\"], no_result[\"scores\"], \n",
    "            simple_result[\"labels\"], simple_result[\"scores\"], \n",
    "            primed_result[\"labels\"], primed_result[\"scores\"])\n",
    "headers = [\"no_prompt\", \"no_prompt\", \"simple_prompt\", \"simple_prompt\", \"primed_prompt\", \"primed_prompt\"]\n",
    "\n",
    "print(tabulate(table, headers=headers, tablefmt=\"grid\"))\n"
   ]
  },
  {
   "cell_type": "code",
   "execution_count": null,
   "id": "5ed9bda0-41f2-4c7c-b055-27c1998c1d4e",
   "metadata": {},
   "outputs": [],
   "source": []
  }
 ],
 "metadata": {
  "kernelspec": {
   "display_name": "Python (huggingface_env)",
   "language": "python",
   "name": "huggingface_env"
  },
  "language_info": {
   "codemirror_mode": {
    "name": "ipython",
    "version": 3
   },
   "file_extension": ".py",
   "mimetype": "text/x-python",
   "name": "python",
   "nbconvert_exporter": "python",
   "pygments_lexer": "ipython3",
   "version": "3.8.20"
  }
 },
 "nbformat": 4,
 "nbformat_minor": 5
}
