{
 "cells": [
  {
   "cell_type": "markdown",
   "id": "e25090fa-f990-4f1a-84f3-b12159eedae8",
   "metadata": {},
   "source": [
    "# Try out gradio"
   ]
  },
  {
   "cell_type": "markdown",
   "id": "afd23321-1870-44af-82ed-bb241d055dfa",
   "metadata": {},
   "source": []
  },
  {
   "cell_type": "markdown",
   "id": "3bbee2e4-55c8-4b06-9929-72026edf7932",
   "metadata": {},
   "source": []
  },
  {
   "cell_type": "code",
   "execution_count": 5,
   "id": "f8c28d2d-8458-49fd-8ebf-5e729d6e861f",
   "metadata": {},
   "outputs": [
    {
     "name": "stderr",
     "output_type": "stream",
     "text": [
      "Hardware accelerator e.g. GPU is available in the environment, but no `device` argument is passed to the `Pipeline` object. Model will be on CPU.\n"
     ]
    },
    {
     "name": "stdout",
     "output_type": "stream",
     "text": [
      "First trip: 7-Day Island Beach Holiday in Greece (Summer). I am planning a trip to Greece with my boyfriend, where we will visit two islands. We have booked an apartment on each island for a few days and plan to spend most of our time relaxing. Our main goals are to enjoy the beach, try delicious local food, and possibly go on a hike—if it’s not too hot. We will be relying solely on public transport. We’re in our late 20s and traveling from the Netherlands. \n",
      "\n",
      "Packing list: ['bathing suit', 'beach towel', 'beach bag', 'sandals', 'comfortable walking shoes', 'light jacket', 'sunscreen', 'sunglasses', 'sunhat', 'entertainment for downtime (e.g. book/ebook, games, laptop, journal)', 'short pants/skirts', 't-shirts/tops']\n"
     ]
    }
   ],
   "source": [
    "# Prerequisites\n",
    "from tabulate import tabulate\n",
    "from transformers import pipeline\n",
    "import json\n",
    "\n",
    "# Load smaller the model and create a pipeline for zero-shot classification (1min loading + classifying with 89 labels)\n",
    "classifier_bart_base = pipeline(\"zero-shot-classification\", model=\"facebook/bart-large-mnli\")\n",
    "\n",
    "# get candidate labels\n",
    "with open(\"packing_label_structure.json\", \"r\") as file:\n",
    "    candidate_labels = json.load(file)\n",
    "keys_list = list(candidate_labels.keys())\n",
    "\n",
    "# Load test data (in dictionary)\n",
    "with open(\"test_data.json\", \"r\") as file:\n",
    "    packing_data = json.load(file)\n",
    "# Get a list of trip descriptions (keys)\n",
    "trips = list(packing_data.keys())\n",
    "# Access the first trip description\n",
    "first_trip = trips[0]\n",
    "# Get the packing list for the secondfirst trip\n",
    "first_trip_items = packing_data[first_trip]\n",
    "\n",
    "print(f\"First trip: {first_trip} \\n\")\n",
    "print(f\"Packing list: {first_trip_items}\")"
   ]
  },
  {
   "cell_type": "code",
   "execution_count": 6,
   "id": "3511a0ab-f7ec-4b2f-b670-948dadaccc1b",
   "metadata": {},
   "outputs": [
    {
     "name": "stdout",
     "output_type": "stream",
     "text": [
      "{'sequence': '7-Day Island Beach Holiday in Greece (Summer). I am planning a trip to Greece with my boyfriend, where we will visit two islands. We have booked an apartment on each island for a few days and plan to spend most of our time relaxing. Our main goals are to enjoy the beach, try delicious local food, and possibly go on a hike—if it’s not too hot. We will be relying solely on public transport. We’re in our late 20s and traveling from the Netherlands.', 'labels': ['beach vacation', 'micro-adventure / weekend trip', 'digital nomad trip', 'festival trip', 'long-distance hike / thru-hike', 'hut trek (summer)', 'yoga / wellness retreat', 'city trip', 'road trip (car / camper)', 'ski tour', 'camping trip (campground)', 'snowboard / splitboard trip', 'camping trip (wild camping)', 'hut trek (winter)'], 'scores': [0.6826315522193909, 0.23971301317214966, 0.026359237730503082, 0.01392966415733099, 0.007102480158209801, 0.006498735398054123, 0.006282409653067589, 0.005330998450517654, 0.002326692920178175, 0.00229770690202713, 0.002079073805361986, 0.002052270108833909, 0.0017535060178488493, 0.0016426534857600927]}\n"
     ]
    }
   ],
   "source": [
    "trips = [\n",
    "    \"hut trek (summer)\",\n",
    "    \"hut trek (winter)\",\n",
    "    \"camping trip (wild camping)\",\n",
    "    \"camping trip (campground)\",\n",
    "    \"ski tour\",\n",
    "    \"snowboard / splitboard trip\",\n",
    "    \"long-distance hike / thru-hike\",\n",
    "    \"digital nomad trip\",\n",
    "    \"city trip\",\n",
    "    \"road trip (car / camper)\",\n",
    "    \"festival trip\",\n",
    "    \"yoga / wellness retreat\",\n",
    "    \"micro-adventure / weekend trip\",\n",
    "    \"beach vacation\"\n",
    "]\n",
    "\n",
    "result_bart_base = classifier_bart_base(first_trip, trips)\n",
    "print(result_bart_base)"
   ]
  },
  {
   "cell_type": "code",
   "execution_count": 8,
   "id": "fed1f8bc-5baf-46e7-8763-9d56fb9c536b",
   "metadata": {},
   "outputs": [
    {
     "name": "stdout",
     "output_type": "stream",
     "text": [
      "{'sequence': '7-Day Island Beach Holiday in Greece (Summer). I am planning a trip to Greece with my boyfriend, where we will visit two islands. We have booked an apartment on each island for a few days and plan to spend most of our time relaxing. Our main goals are to enjoy the beach, try delicious local food, and possibly go on a hike—if it’s not too hot. We will be relying solely on public transport. We’re in our late 20s and traveling from the Netherlands.', 'labels': ['microavontuur / weekendtrip', 'skitocht / skitour', 'langeafstandswandeling / thru-hike', 'digitale nomade reis', 'strandvakantie', 'huttentocht (zomer)', 'stedentrip', 'kampeerreis (wildkamperen)', 'festivaltrip', 'kampeerreis (camping)', 'yoga / wellness retreat', 'roadtrip (auto/camper)', 'snowboard / splitboard trip', 'huttentocht (winter)'], 'scores': [0.26905739307403564, 0.1157173365354538, 0.09123526513576508, 0.08802220225334167, 0.08310796320438385, 0.07726065814495087, 0.07592183351516724, 0.06074528023600578, 0.05731743946671486, 0.03661539778113365, 0.018351539969444275, 0.015082922764122486, 0.005994883831590414, 0.005569908302277327]}\n",
      "{'sequence': '7-Day Island Beach Holiday in Greece (Summer). I am planning a trip to Greece with my boyfriend, where we will visit two islands. We have booked an apartment on each island for a few days and plan to spend most of our time relaxing. Our main goals are to enjoy the beach, try delicious local food, and possibly go on a hike—if it’s not too hot. We will be relying solely on public transport. We’re in our late 20s and traveling from the Netherlands.', 'labels': ['going to the beach', 'relaxing', 'hiking', 'sightseeing', 'running', 'swimming', 'photography', 'biking', 'stand-up paddleboarding (SUP)', 'surfing', 'yoga', 'kayaking / canoeing', 'fishing', 'rafting', 'snorkeling', 'paragliding', 'hut-to-hut hiking', 'skiing', 'cross-country skiing', 'horseback riding', 'scuba diving', 'ski touring', 'rock climbing', 'ice climbing', 'snowshoe hiking'], 'scores': [0.5995001196861267, 0.26712971925735474, 0.06245086342096329, 0.011198553256690502, 0.010426489636301994, 0.009217825718224049, 0.006468100473284721, 0.0043213628232479095, 0.003755872370675206, 0.003554020542651415, 0.003213619813323021, 0.0027941588778048754, 0.0018394406652078032, 0.0017105017323046923, 0.001679602195508778, 0.001558927120640874, 0.0012617033207789063, 0.001247997977770865, 0.001185846864245832, 0.0011291984701529145, 0.0010705932509154081, 0.0010687083704397082, 0.0009981229668483138, 0.000726555532310158, 0.0004920309875160456]}\n",
      "{'sequence': '7-Day Island Beach Holiday in Greece (Summer). I am planning a trip to Greece with my boyfriend, where we will visit two islands. We have booked an apartment on each island for a few days and plan to spend most of our time relaxing. Our main goals are to enjoy the beach, try delicious local food, and possibly go on a hike—if it’s not too hot. We will be relying solely on public transport. We’re in our late 20s and traveling from the Netherlands.', 'labels': ['tropisch / vochtig', 'droog / woestijnachtig', 'wisselvallig / lente / herfst', 'warme bestemming / zomer', 'koude bestemming / winter'], 'scores': [0.29945364594459534, 0.2567446827888489, 0.21122825145721436, 0.21058611571788788, 0.021987346932291985]}\n"
     ]
    }
   ],
   "source": [
    "trip_type = []\n",
    "for key in keys_list[:3]:\n",
    "    # Run the classification (ca 30 seconds classifying)\n",
    "    result_bart_base = classifier_bart_base(first_trip, candidate_labels[key])\n",
    "    print(result_bart_base)\n",
    "    \n",
    "    "
   ]
  },
  {
   "cell_type": "code",
   "execution_count": null,
   "id": "52ce8006-ebdc-4c2f-bf9f-570ad74a0c96",
   "metadata": {},
   "outputs": [],
   "source": []
  },
  {
   "cell_type": "code",
   "execution_count": null,
   "id": "6126fc8c-62b3-4262-9a48-c8e3a4164337",
   "metadata": {},
   "outputs": [],
   "source": []
  },
  {
   "cell_type": "code",
   "execution_count": null,
   "id": "c001ef88-25a6-4634-8a6d-8830704c6474",
   "metadata": {},
   "outputs": [],
   "source": []
  },
  {
   "cell_type": "code",
   "execution_count": 3,
   "id": "fa0d8126-e346-4412-9197-7d51baf868da",
   "metadata": {
    "scrolled": true
   },
   "outputs": [
    {
     "name": "stderr",
     "output_type": "stream",
     "text": [
      "Some weights of BartForSequenceClassification were not initialized from the model checkpoint at facebook/bart-base and are newly initialized: ['classification_head.dense.bias', 'classification_head.dense.weight', 'classification_head.out_proj.bias', 'classification_head.out_proj.weight']\n",
      "You should probably TRAIN this model on a down-stream task to be able to use it for predictions and inference.\n",
      "Hardware accelerator e.g. GPU is available in the environment, but no `device` argument is passed to the `Pipeline` object. Model will be on CPU.\n",
      "Failed to determine 'entailment' label id from the label2id mapping in the model config. Setting to -1. Define a descriptive label2id mapping in the model config to ensure correct outputs.\n",
      "Asking to truncate to max_length but no maximum length is provided and the model has no predefined maximum length. Default to no truncation.\n"
     ]
    },
    {
     "name": "stdout",
     "output_type": "stream",
     "text": [
      "{'sequence': 'I like to cycle and I burn easily. I also love culture and like to post on social media about my food. I will go on a trip to italy in july.', 'labels': ['snacks for the journey', 'business attire', 'first aid kit', 'cardigan/sweater', 'big backpack/suitcase', 'trekking poles', 'snorkel gear', 'lightweight backpack', 'hiking boots', 'packable rain jacket', 'emergency roadside kit', 'sandals', 'travel insurance documents', 'short pants/skirts', 'phone and charger', 'mosquito repellant', 'refillable water bottle', 'reusable shopping bags', 'hand warmers', 't-shirts/tops', 'fanny pack', 'camping stove', 'winter shoes', 'visa documents', 'sleeping bag', 'local currency', 'earplugs', 'malaria medication', 'travel-sized toiletries', 'bandana', 'thermal clothing', 'snowboard', 'ski jacket', 'hostel lock', 'sleep wear', 'reusable coffee mug', 'lip balm', 'flip-flops', 'beach bag', 'snow boots', 'quick-dry towel', 'dry bag', 'comfortable shoes', 'poncho', 'charging cables', 'bathing suit', 'bug spray', 'short pants', 'personal toiletries (e.g. toothbrush, toothpaste)', 'swimsuit', 'ski goggles', 'tent', 'long pants', 'waterproof phone case', 'sunhat', 'power bank', 'beach towel', 'travel pillow', 'dress shoes', 'beanie', 'travel journal', 'multi-tool', 'water filter', 'travel adapter', 'light jacket', 'snacks', 'entertainment for downtime (e.g. book/ebook, games, laptop, journal)', 'necessary medication', 'laptop', 'pants', 'sunglasses', 'tickets', 'gifts', 'day pack', 'shirts', 'neck wallet', 'blanket', 'base layers', 'thin scarf', 'passport', 'sunscreen', 'wallet', 'socks', 'currency', 'painkiller', 'underwear', 'gloves', 'flashlight', 'headphones', 'sim card', 'pen', 'compass'], 'scores': [0.012441754341125488, 0.012351429089903831, 0.012167180888354778, 0.012166878208518028, 0.012136447243392467, 0.012125229462981224, 0.012097436934709549, 0.01190933957695961, 0.011899038217961788, 0.011895307339727879, 0.011828542686998844, 0.011802976951003075, 0.011791540309786797, 0.011740596033632755, 0.01169244758784771, 0.011615532450377941, 0.01158224605023861, 0.011538327671587467, 0.011487681418657303, 0.01148179080337286, 0.011476797051727772, 0.011466125957667828, 0.011456835083663464, 0.011449581012129784, 0.011427287943661213, 0.011398869566619396, 0.011351936496794224, 0.011341145262122154, 0.01132613979279995, 0.011293238960206509, 0.011290710419416428, 0.01127705443650484, 0.011268392205238342, 0.01124754548072815, 0.011206432245671749, 0.011183503083884716, 0.011183468624949455, 0.011162254959344864, 0.011129135265946388, 0.011108910664916039, 0.011100409552454948, 0.01109034288674593, 0.011062420904636383, 0.011046049185097218, 0.011026248335838318, 0.011015433818101883, 0.010991919785737991, 0.010980616323649883, 0.010939077474176884, 0.010923546738922596, 0.010876741260290146, 0.010869810357689857, 0.010869619436562061, 0.01083455327898264, 0.010806321166455746, 0.010805352590978146, 0.010776146315038204, 0.010757116600871086, 0.01074838638305664, 0.010743198916316032, 0.010731535032391548, 0.010701706632971764, 0.010595647618174553, 0.010506472550332546, 0.010483232326805592, 0.010480470024049282, 0.010398367419838905, 0.010366113856434822, 0.01024249941110611, 0.010201403871178627, 0.010194025933742523, 0.010078392922878265, 0.010073543526232243, 0.009950620122253895, 0.009918712079524994, 0.009877716191112995, 0.009877406992018223, 0.0098751001060009, 0.009856359101831913, 0.009793219156563282, 0.009784556925296783, 0.00971441064029932, 0.009675716049969196, 0.009637716226279736, 0.009609267115592957, 0.009500053711235523, 0.009487544186413288, 0.009454273618757725, 0.00934714823961258, 0.009262917563319206, 0.00915918592363596, 0.009104343131184578]}\n"
     ]
    }
   ],
   "source": [
    "from transformers import pipeline\n",
    "import gradio as gr\n",
    "\n",
    "# Load the model and create a pipeline for zero-shot classification\n",
    "classifier = pipeline(\"zero-shot-classification\", model=\"facebook/bart-base\")\n",
    "\n",
    "# Load labels from a txt file\n",
    "with open(\"labels.txt\", \"r\", encoding=\"utf-8\") as f:\n",
    "    class_labels = [line.strip() for line in f if line.strip()]\n",
    "\n",
    "# Example text to classify\n",
    "input_text = \"I like to cycle and I burn easily. I also love culture and like to post on social media about my food. I will go on a trip to italy in july.\"\n",
    "\n",
    "# Perform classification\n",
    "result = classifier(input_text, class_labels)\n",
    "\n",
    "print(result)"
   ]
  },
  {
   "cell_type": "markdown",
   "id": "8e856a9c-a66c-4c4b-b7cf-8c52abbbc6fa",
   "metadata": {},
   "source": [
    "Use model with gradio"
   ]
  },
  {
   "cell_type": "code",
   "execution_count": 4,
   "id": "521d9118-b59d-4cc6-b637-20202eaf8f33",
   "metadata": {
    "scrolled": true
   },
   "outputs": [
    {
     "name": "stdout",
     "output_type": "stream",
     "text": [
      "Running on local URL:  http://127.0.0.1:7861\n",
      "Running on public URL: https://0f70ba5369d721cf8f.gradio.live\n",
      "\n",
      "This share link expires in 72 hours. For free permanent hosting and GPU upgrades, run `gradio deploy` from Terminal to deploy to Spaces (https://huggingface.co/spaces)\n"
     ]
    },
    {
     "data": {
      "text/html": [
       "<div><iframe src=\"https://0f70ba5369d721cf8f.gradio.live\" width=\"100%\" height=\"500\" allow=\"autoplay; camera; microphone; clipboard-read; clipboard-write;\" frameborder=\"0\" allowfullscreen></iframe></div>"
      ],
      "text/plain": [
       "<IPython.core.display.HTML object>"
      ]
     },
     "metadata": {},
     "output_type": "display_data"
    }
   ],
   "source": [
    "# Define the Gradio interface\n",
    "def classify(text):\n",
    "    return classifier(text, class_labels)\n",
    "\n",
    "demo = gr.Interface(\n",
    "    fn=classify,\n",
    "    inputs=\"text\",\n",
    "    outputs=\"json\",\n",
    "    title=\"Zero-Shot Classification\",\n",
    "    description=\"Enter a text describing your trip\",\n",
    ")\n",
    "\n",
    "# Launch the Gradio app\n",
    "if __name__ == \"__main__\":\n",
    "    demo.launch(share=True)"
   ]
  },
  {
   "cell_type": "markdown",
   "id": "d6526d18-6ba6-4a66-8310-21337b832d84",
   "metadata": {},
   "source": [
    "Simple app"
   ]
  },
  {
   "cell_type": "code",
   "execution_count": null,
   "id": "5496ded9-7294-4da4-af05-00e5846cdd04",
   "metadata": {},
   "outputs": [],
   "source": [
    "import gradio as gr\n",
    "from transformers import pipeline\n",
    "\n",
    "# Initialize the zero-shot classification pipeline\n",
    "classifier = pipeline(\"zero-shot-classification\", model=\"facebook/bart-base\")\n",
    "\n",
    "# Define the classification function\n",
    "def classify_text(text, labels):\n",
    "    labels = labels.split(\",\")  # Convert the comma-separated string into a list\n",
    "    result = classifier(text, candidate_labels=labels)\n",
    "    return result\n",
    "\n",
    "# Set up the Gradio interface\n",
    "with gr.Blocks() as demo:\n",
    "    gr.Markdown(\"# Zero-Shot Classification\")\n",
    "    text_input = gr.Textbox(label=\"Input Text\")\n",
    "    label_input = gr.Textbox(label=\"Comma-separated Labels\")\n",
    "    output = gr.JSON(label=\"Result\")\n",
    "    classify_button = gr.Button(\"Classify\")\n",
    "\n",
    "    # Link the button to the classification function\n",
    "    classify_button.click(classify_text, inputs=[text_input, label_input], outputs=output)\n",
    "\n",
    "# Launch the Gradio interface\n",
    "demo.launch()"
   ]
  }
 ],
 "metadata": {
  "kernelspec": {
   "display_name": "Python (huggingface_env)",
   "language": "python",
   "name": "huggingface_env"
  },
  "language_info": {
   "codemirror_mode": {
    "name": "ipython",
    "version": 3
   },
   "file_extension": ".py",
   "mimetype": "text/x-python",
   "name": "python",
   "nbconvert_exporter": "python",
   "pygments_lexer": "ipython3",
   "version": "3.8.20"
  }
 },
 "nbformat": 4,
 "nbformat_minor": 5
}
