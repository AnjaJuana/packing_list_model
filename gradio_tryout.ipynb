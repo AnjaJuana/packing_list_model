{
 "cells": [
  {
   "cell_type": "markdown",
   "id": "e25090fa-f990-4f1a-84f3-b12159eedae8",
   "metadata": {},
   "source": [
    "# Try out gradio"
   ]
  },
  {
   "cell_type": "markdown",
   "id": "afd23321-1870-44af-82ed-bb241d055dfa",
   "metadata": {},
   "source": []
  },
  {
   "cell_type": "markdown",
   "id": "3bbee2e4-55c8-4b06-9929-72026edf7932",
   "metadata": {},
   "source": [
    "**Load and try the model**"
   ]
  },
  {
   "cell_type": "code",
   "execution_count": 16,
   "id": "f8c28d2d-8458-49fd-8ebf-5e729d6e861f",
   "metadata": {},
   "outputs": [
    {
     "name": "stderr",
     "output_type": "stream",
     "text": [
      "Hardware accelerator e.g. GPU is available in the environment, but no `device` argument is passed to the `Pipeline` object. Model will be on CPU.\n"
     ]
    },
    {
     "name": "stdout",
     "output_type": "stream",
     "text": [
      "First trip: I am planning a trip to Greece with my boyfriend, where we will visit two islands. We have booked an apartment on each island for a few days and plan to spend most of our time relaxing. Our main goals are to enjoy the beach, try delicious local food, and possibly go on a hike—if it’s not too hot. We will be relying solely on public transport. We’re in our late 20s and traveling from the Netherlands. \n",
      "\n",
      "Trip type: ['beach vacation', ['swimming', 'going to the beach', 'relaxing', 'hiking'], 'warm destination / summer', 'lightweight (but comfortable)', 'casual', 'indoor', 'no vehicle', 'no special conditions', '7 days']\n"
     ]
    }
   ],
   "source": [
    "# Prerequisites\n",
    "from tabulate import tabulate\n",
    "from transformers import pipeline\n",
    "import json\n",
    "import pandas as pd\n",
    "\n",
    "# Load the model and create a pipeline for zero-shot classification (1min loading + classifying with 89 labels)\n",
    "classifier = pipeline(\"zero-shot-classification\", model=\"facebook/bart-large-mnli\")\n",
    "\n",
    "# get candidate labels\n",
    "with open(\"packing_label_structure.json\", \"r\") as file:\n",
    "    candidate_labels = json.load(file)\n",
    "keys_list = list(candidate_labels.keys())\n",
    "\n",
    "# Load test data (in list of dictionaries)\n",
    "with open(\"test_data.json\", \"r\") as file:\n",
    "    packing_data = json.load(file)\n",
    "# Extract all trip descriptions and trip_types\n",
    "trip_descriptions = [trip['description'] for trip in packing_data]\n",
    "trip_types = [trip['trip_types'] for trip in packing_data]\n",
    "\n",
    "# Access the first trip description\n",
    "first_trip = trip_descriptions[0]\n",
    "# Get the packing list for the secondfirst trip\n",
    "first_trip_type = trip_types[0]\n",
    "\n",
    "print(f\"First trip: {first_trip} \\n\")\n",
    "print(f\"Trip type: {first_trip_type}\")"
   ]
  },
  {
   "cell_type": "code",
   "execution_count": 37,
   "id": "fed1f8bc-5baf-46e7-8763-9d56fb9c536b",
   "metadata": {
    "scrolled": true
   },
   "outputs": [
    {
     "name": "stdout",
     "output_type": "stream",
     "text": [
      "{'sequence': 'I am planning a trip to Greece with my boyfriend, where we will visit two islands. We have booked an apartment on each island for a few days and plan to spend most of our time relaxing. Our main goals are to enjoy the beach, try delicious local food, and possibly go on a hike—if it’s not too hot. We will be relying solely on public transport. We’re in our late 20s and traveling from the Netherlands.', 'labels': ['beach vacation', 'micro-adventure / weekend trip', 'nature escape', 'digital nomad trip', 'cultural exploration', 'yoga / wellness retreat', 'festival trip', 'long-distance hike / thru-hike', 'hut trek (summer)', 'city trip', 'road trip (car/camper)', 'ski tour / skitour', 'camping trip (campground)', 'snowboard / splitboard trip', 'camping trip (wild camping)', 'hut trek (winter)'], 'scores': [0.37631064653396606, 0.35016775131225586, 0.13397355377674103, 0.031636204570531845, 0.031270742416381836, 0.012846449390053749, 0.012699575163424015, 0.009526746347546577, 0.008148356340825558, 0.007793044205754995, 0.006512156222015619, 0.005669699050486088, 0.0044484627433121204, 0.004113250877708197, 0.002713854657486081, 0.002169555053114891]}\n",
      "beach vacation\n",
      "0\n",
      "{'sequence': 'I am planning a trip to Greece with my boyfriend, where we will visit two islands. We have booked an apartment on each island for a few days and plan to spend most of our time relaxing. Our main goals are to enjoy the beach, try delicious local food, and possibly go on a hike—if it’s not too hot. We will be relying solely on public transport. We’re in our late 20s and traveling from the Netherlands.', 'labels': ['going to the beach', 'relaxing', 'hiking', 'swimming', 'sightseeing', 'running', 'hut-to-hut hiking', 'biking', 'photography', 'surfing', 'stand-up paddleboarding (SUP)', 'snorkeling', 'yoga', 'kayaking / canoeing', 'rock climbing', 'fishing', 'paragliding', 'rafting', 'horseback riding', 'snowshoe hiking', 'cross-country skiing', 'ice climbing', 'skiing', 'scuba diving', 'ski touring'], 'scores': [0.9914858341217041, 0.9771362543106079, 0.9426282048225403, 0.21901991963386536, 0.17586199939250946, 0.09854521602392197, 0.08370419591665268, 0.03679152950644493, 0.03668990358710289, 0.03099300153553486, 0.025300050154328346, 0.021451234817504883, 0.011070131324231625, 0.0075112744234502316, 0.006306737195700407, 0.0034973458386957645, 0.002655829070135951, 0.00197031581774354, 0.0015599008183926344, 0.001527810120023787, 0.0015017405385151505, 0.0014336870517581701, 0.0011686616344377398, 0.000789369223639369, 0.0004912536824122071]}\n",
      "['going to the beach', 'relaxing', 'hiking']\n",
      "1\n",
      "{'sequence': 'I am planning a trip to Greece with my boyfriend, where we will visit two islands. We have booked an apartment on each island for a few days and plan to spend most of our time relaxing. Our main goals are to enjoy the beach, try delicious local food, and possibly go on a hike—if it’s not too hot. We will be relying solely on public transport. We’re in our late 20s and traveling from the Netherlands.', 'labels': ['warm destination / summer', 'tropical / humid', 'variable weather / spring / autumn', 'dry / desert-like', 'cold destination / winter'], 'scores': [0.6468702554702759, 0.19999535381793976, 0.09394325315952301, 0.05279730260372162, 0.0063938056118786335]}\n",
      "warm destination / summer\n",
      "2\n",
      "{'sequence': 'I am planning a trip to Greece with my boyfriend, where we will visit two islands. We have booked an apartment on each island for a few days and plan to spend most of our time relaxing. Our main goals are to enjoy the beach, try delicious local food, and possibly go on a hike—if it’s not too hot. We will be relying solely on public transport. We’re in our late 20s and traveling from the Netherlands.', 'labels': ['minimalist', 'ultralight', 'lightweight (but comfortable)', 'luxury (including evening wear)'], 'scores': [0.4286234974861145, 0.2564568817615509, 0.2147122174501419, 0.10020739585161209]}\n",
      "minimalist\n",
      "3\n",
      "{'sequence': 'I am planning a trip to Greece with my boyfriend, where we will visit two islands. We have booked an apartment on each island for a few days and plan to spend most of our time relaxing. Our main goals are to enjoy the beach, try delicious local food, and possibly go on a hike—if it’s not too hot. We will be relying solely on public transport. We’re in our late 20s and traveling from the Netherlands.', 'labels': ['casual', 'conservative', 'formal (business trip)'], 'scores': [0.6567223072052002, 0.3034382164478302, 0.039839524775743484]}\n",
      "casual\n",
      "4\n",
      "{'sequence': 'I am planning a trip to Greece with my boyfriend, where we will visit two islands. We have booked an apartment on each island for a few days and plan to spend most of our time relaxing. Our main goals are to enjoy the beach, try delicious local food, and possibly go on a hike—if it’s not too hot. We will be relying solely on public transport. We’re in our late 20s and traveling from the Netherlands.', 'labels': ['huts with half board', 'indoor', 'sleeping in a car', 'sleeping in a tent'], 'scores': [0.5007699728012085, 0.34074831008911133, 0.10416240990161896, 0.05431929975748062]}\n",
      "huts with half board\n",
      "5\n",
      "{'sequence': 'I am planning a trip to Greece with my boyfriend, where we will visit two islands. We have booked an apartment on each island for a few days and plan to spend most of our time relaxing. Our main goals are to enjoy the beach, try delicious local food, and possibly go on a hike—if it’s not too hot. We will be relying solely on public transport. We’re in our late 20s and traveling from the Netherlands.', 'labels': ['vehicle', 'no vehicle'], 'scores': [0.7521055936813354, 0.24789436161518097]}\n",
      "vehicle\n",
      "6\n",
      "{'sequence': 'I am planning a trip to Greece with my boyfriend, where we will visit two islands. We have booked an apartment on each island for a few days and plan to spend most of our time relaxing. Our main goals are to enjoy the beach, try delicious local food, and possibly go on a hike—if it’s not too hot. We will be relying solely on public transport. We’re in our late 20s and traveling from the Netherlands.', 'labels': ['off-grid / no electricity', 'self-supported (bring your own food/cooking)', 'no special conditions', 'pet-friendly', 'rainy climate', 'child-friendly', 'snow and ice', 'high alpine terrain', 'avalanche-prone terrain'], 'scores': [0.46220096945762634, 0.12957870960235596, 0.10651793330907822, 0.09777138382196426, 0.06722460687160492, 0.0632496327161789, 0.04952802509069443, 0.015049820765852928, 0.008878983557224274]}\n",
      "off-grid / no electricity\n",
      "7\n",
      "{'sequence': 'I am planning a trip to Greece with my boyfriend, where we will visit two islands. We have booked an apartment on each island for a few days and plan to spend most of our time relaxing. Our main goals are to enjoy the beach, try delicious local food, and possibly go on a hike—if it’s not too hot. We will be relying solely on public transport. We’re in our late 20s and traveling from the Netherlands.', 'labels': ['7+ days', '2 days', '1 day', '6 days', '3 days', '4 days', '7 days', '5 days'], 'scores': [0.21139054000377655, 0.18512114882469177, 0.14520084857940674, 0.0976138487458229, 0.094282366335392, 0.09376301616430283, 0.09161651134490967, 0.08101171255111694]}\n",
      "7+ days\n",
      "8\n"
     ]
    }
   ],
   "source": [
    "# Create an empty DataFrame with specified columns\n",
    "df = pd.DataFrame(columns=['superclass', 'pred_class'])\n",
    "cutoff = 0.5  # used to choose which activities are relevant\n",
    "\n",
    "# fill DataFrame\n",
    "for i, key in enumerate(keys_list):\n",
    "    # Run the classification (ca 30 seconds classifying)\n",
    "    if key == 'activities':\n",
    "        result = classifier(first_trip, candidate_labels[key], multi_label=True)\n",
    "        indices = [i for i, score in enumerate(result['scores']) if score > cutoff]\n",
    "        classes = [result['labels'][i] for i in indices]\n",
    "    else:\n",
    "        result = classifier(first_trip, candidate_labels[key])\n",
    "        classes = result[\"labels\"][0]\n",
    "    print(result)\n",
    "    print(classes)\n",
    "    print(i)\n",
    "    df.loc[i] = [key, classes]\n",
    "\n",
    "df['true_class'] = first_trip_type"
   ]
  },
  {
   "cell_type": "code",
   "execution_count": 40,
   "id": "b3b51280-76a1-4229-a9de-070b925d3463",
   "metadata": {
    "scrolled": true
   },
   "outputs": [
    {
     "name": "stdout",
     "output_type": "stream",
     "text": [
      "           Superclass                              pred_class                                        true_class\n",
      "0       activity_type                          beach vacation                                    beach vacation\n",
      "1          activities  [going to the beach, relaxing, hiking]  [swimming, going to the beach, relaxing, hiking]\n",
      "2   climate_or_season               warm destination / summer                         warm destination / summer\n",
      "3    style_or_comfort                              minimalist                     lightweight (but comfortable)\n",
      "4          dress_code                                  casual                                            casual\n",
      "5       accommodation                    huts with half board                                            indoor\n",
      "6      transportation                                 vehicle                                        no vehicle\n",
      "7  special_conditions               off-grid / no electricity                             no special conditions\n",
      "8    trip_length_days                                 7+ days                                            7 days\n"
     ]
    }
   ],
   "source": [
    "pd.set_option('display.width', 1000) \n",
    "pd.set_option('display.max_columns', None)\n",
    "print(df)"
   ]
  },
  {
   "cell_type": "code",
   "execution_count": 42,
   "id": "2ec09e8f-75f5-45b1-b4c0-4fafd685d36b",
   "metadata": {},
   "outputs": [
    {
     "name": "stdout",
     "output_type": "stream",
     "text": [
      "           Superclass                              pred_class                                        true_class   same\n",
      "0       activity_type                          beach vacation                                    beach vacation   True\n",
      "1          activities  [going to the beach, relaxing, hiking]  [swimming, going to the beach, relaxing, hiking]  False\n",
      "2   climate_or_season               warm destination / summer                         warm destination / summer   True\n",
      "3    style_or_comfort                              minimalist                     lightweight (but comfortable)  False\n",
      "4          dress_code                                  casual                                            casual   True\n",
      "5       accommodation                    huts with half board                                            indoor  False\n",
      "6      transportation                                 vehicle                                        no vehicle  False\n",
      "7  special_conditions               off-grid / no electricity                             no special conditions  False\n",
      "8    trip_length_days                                 7+ days                                            7 days  False\n"
     ]
    }
   ],
   "source": [
    "df['same'] = df['pred_class'] == df['true_class']\n",
    "print(df)"
   ]
  },
  {
   "cell_type": "code",
   "execution_count": 62,
   "id": "82ae19c8-8bb7-4f7f-841b-1cb6501a17a7",
   "metadata": {},
   "outputs": [
    {
     "name": "stdout",
     "output_type": "stream",
     "text": [
      "Accuracy (excluding activities): 0.3333333333333333\n"
     ]
    }
   ],
   "source": [
    "# accuracy excluding activities\n",
    "correct = sum(df.loc[df.index != 1, 'same'])\n",
    "total = len(df['same'])\n",
    "accuracy = correct/total\n",
    "print(\"Accuracy (excluding activities):\", accuracy)"
   ]
  },
  {
   "cell_type": "code",
   "execution_count": 64,
   "id": "16c0a3ae-34ac-49a4-b59f-411a6f0ce947",
   "metadata": {},
   "outputs": [
    {
     "name": "stdout",
     "output_type": "stream",
     "text": [
      "Percentage of true classes that were identified: 0.75\n",
      "Percentage of predicted classes that were wrong: 0.0\n"
     ]
    }
   ],
   "source": [
    "pred_class = df.loc[df.index == 1, 'pred_class'].iloc[0]\n",
    "true_class = df.loc[df.index == 1, 'true_class'].iloc[0]\n",
    "correct = [label for label in pred_class if label in true_class]\n",
    "\n",
    "num_correct = len(correct)\n",
    "correct_perc = num_correct/len(true_class)\n",
    "\n",
    "num_pred = len(pred_class)\n",
    "wrong_perc = (num_pred - num_correct)/num_pred\n",
    "\n",
    "print(\"Percentage of true classes that were identified:\", correct_perc)\n",
    "print(\"Percentage of predicted classes that were wrong:\", wrong_perc)"
   ]
  },
  {
   "cell_type": "markdown",
   "id": "62c5c18c-58f4-465c-a188-c57cfa7ffa90",
   "metadata": {},
   "source": [
    "Now do the same for all trips"
   ]
  },
  {
   "cell_type": "code",
   "execution_count": null,
   "id": "e4192b42-f1bc-4fcb-a238-dbdb3df7d699",
   "metadata": {},
   "outputs": [],
   "source": []
  },
  {
   "cell_type": "markdown",
   "id": "17483df4-55c4-41cd-b8a9-61f7a5c7e8a3",
   "metadata": {},
   "source": [
    "**Use gradio for user input**"
   ]
  },
  {
   "cell_type": "code",
   "execution_count": 66,
   "id": "cb7fd425-d0d6-458d-97ca-2150dc55f206",
   "metadata": {},
   "outputs": [
    {
     "name": "stdout",
     "output_type": "stream",
     "text": [
      "Running on local URL:  http://127.0.0.1:7861\n",
      "Running on public URL: https://aa06d5d85ffadaa92b.gradio.live\n",
      "\n",
      "This share link expires in 72 hours. For free permanent hosting and GPU upgrades, run `gradio deploy` from Terminal to deploy to Spaces (https://huggingface.co/spaces)\n"
     ]
    },
    {
     "data": {
      "text/html": [
       "<div><iframe src=\"https://aa06d5d85ffadaa92b.gradio.live\" width=\"100%\" height=\"500\" allow=\"autoplay; camera; microphone; clipboard-read; clipboard-write;\" frameborder=\"0\" allowfullscreen></iframe></div>"
      ],
      "text/plain": [
       "<IPython.core.display.HTML object>"
      ]
     },
     "metadata": {},
     "output_type": "display_data"
    },
    {
     "name": "stdout",
     "output_type": "stream",
     "text": [
      "0\n",
      "1\n",
      "2\n",
      "3\n",
      "4\n",
      "5\n",
      "6\n",
      "7\n",
      "8\n",
      "0\n",
      "1\n",
      "2\n",
      "3\n",
      "4\n",
      "5\n",
      "6\n",
      "7\n",
      "8\n"
     ]
    }
   ],
   "source": [
    "# use model with gradio\n",
    "from transformers import pipeline\n",
    "import gradio as gr\n",
    "\n",
    "# make a function for what I am doing\n",
    "def classify(text):\n",
    "    df = pd.DataFrame(columns=['Superclass', 'class'])\n",
    "    for i, key in enumerate(keys_list):\n",
    "        # Run the classification (ca 30 seconds classifying)\n",
    "        if key == 'activities':\n",
    "            result = classifier(text, candidate_labels[key], multi_label=True)\n",
    "            classes = [result['labels'][i] for i in indices]\n",
    "        else:\n",
    "            result = classifier(text, candidate_labels[key])\n",
    "            classes = result[\"labels\"][0]\n",
    "        print(i)\n",
    "        df.loc[i] = [key, classes]\n",
    "\n",
    "    return df\n",
    "\n",
    "demo = gr.Interface(\n",
    "    fn=classify,\n",
    "    inputs=\"text\",\n",
    "    outputs=\"dataframe\",\n",
    "    title=\"Zero-Shot Classification\",\n",
    "    description=\"Enter a text describing your trip\",\n",
    ")\n",
    "\n",
    "# Launch the Gradio app\n",
    "if __name__ == \"__main__\":\n",
    "    demo.launch(share=True)"
   ]
  },
  {
   "cell_type": "markdown",
   "id": "8e856a9c-a66c-4c4b-b7cf-8c52abbbc6fa",
   "metadata": {},
   "source": [
    "Use model with gradio"
   ]
  },
  {
   "cell_type": "code",
   "execution_count": 4,
   "id": "521d9118-b59d-4cc6-b637-20202eaf8f33",
   "metadata": {
    "scrolled": true
   },
   "outputs": [
    {
     "name": "stdout",
     "output_type": "stream",
     "text": [
      "Running on local URL:  http://127.0.0.1:7861\n",
      "Running on public URL: https://0f70ba5369d721cf8f.gradio.live\n",
      "\n",
      "This share link expires in 72 hours. For free permanent hosting and GPU upgrades, run `gradio deploy` from Terminal to deploy to Spaces (https://huggingface.co/spaces)\n"
     ]
    },
    {
     "data": {
      "text/html": [
       "<div><iframe src=\"https://0f70ba5369d721cf8f.gradio.live\" width=\"100%\" height=\"500\" allow=\"autoplay; camera; microphone; clipboard-read; clipboard-write;\" frameborder=\"0\" allowfullscreen></iframe></div>"
      ],
      "text/plain": [
       "<IPython.core.display.HTML object>"
      ]
     },
     "metadata": {},
     "output_type": "display_data"
    }
   ],
   "source": [
    "# Define the Gradio interface\n",
    "def classify(text):\n",
    "    return classifier(text, class_labels)\n",
    "\n",
    "demo = gr.Interface(\n",
    "    fn=classify,\n",
    "    inputs=\"text\",\n",
    "    outputs=\"json\",\n",
    "    title=\"Zero-Shot Classification\",\n",
    "    description=\"Enter a text describing your trip\",\n",
    ")\n",
    "\n",
    "# Launch the Gradio app\n",
    "if __name__ == \"__main__\":\n",
    "    demo.launch(share=True)"
   ]
  },
  {
   "cell_type": "code",
   "execution_count": null,
   "id": "c8da1c90-d3a3-4b08-801c-b3afa17b2633",
   "metadata": {},
   "outputs": [],
   "source": []
  }
 ],
 "metadata": {
  "kernelspec": {
   "display_name": "Python (huggingface_env)",
   "language": "python",
   "name": "huggingface_env"
  },
  "language_info": {
   "codemirror_mode": {
    "name": "ipython",
    "version": 3
   },
   "file_extension": ".py",
   "mimetype": "text/x-python",
   "name": "python",
   "nbconvert_exporter": "python",
   "pygments_lexer": "ipython3",
   "version": "3.8.20"
  }
 },
 "nbformat": 4,
 "nbformat_minor": 5
}
