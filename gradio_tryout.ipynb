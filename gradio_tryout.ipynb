{
 "cells": [
  {
   "cell_type": "markdown",
   "id": "e25090fa-f990-4f1a-84f3-b12159eedae8",
   "metadata": {},
   "source": [
    "# Try out gradio"
   ]
  },
  {
   "cell_type": "markdown",
   "id": "afd23321-1870-44af-82ed-bb241d055dfa",
   "metadata": {},
   "source": []
  },
  {
   "cell_type": "markdown",
   "id": "3bbee2e4-55c8-4b06-9929-72026edf7932",
   "metadata": {},
   "source": [
    "**Load and try the model**"
   ]
  },
  {
   "cell_type": "code",
   "execution_count": null,
   "id": "f8c28d2d-8458-49fd-8ebf-5e729d6e861f",
   "metadata": {},
   "outputs": [
    {
     "data": {
      "application/vnd.jupyter.widget-view+json": {
       "model_id": "1ba10e0eeac1453b80fdd30f0be2ae09",
       "version_major": 2,
       "version_minor": 0
      },
      "text/plain": [
       "config.json:   0%|          | 0.00/18.5k [00:00<?, ?B/s]"
      ]
     },
     "metadata": {},
     "output_type": "display_data"
    },
    {
     "data": {
      "application/vnd.jupyter.widget-view+json": {
       "model_id": "948fd70d1e004fcdaf1b971ce765cd96",
       "version_major": 2,
       "version_minor": 0
      },
      "text/plain": [
       "model.safetensors:   0%|          | 0.00/738M [00:00<?, ?B/s]"
      ]
     },
     "metadata": {},
     "output_type": "display_data"
    },
    {
     "name": "stderr",
     "output_type": "stream",
     "text": [
      "Error while downloading from https://cdn-lfs.hf.co/repos/02/27/022742fbdf4a76000fe82e4c637df8c93e9d656674860958652c57c433c438c6/d58b81ba665995176104a66f7b7d0b9e2e412564f6b33917e84c4eb920946841?response-content-disposition=inline%3B+filename*%3DUTF-8%27%27model.safetensors%3B+filename%3D%22model.safetensors%22%3B&Expires=1749125341&Policy=eyJTdGF0ZW1lbnQiOlt7IkNvbmRpdGlvbiI6eyJEYXRlTGVzc1RoYW4iOnsiQVdTOkVwb2NoVGltZSI6MTc0OTEyNTM0MX19LCJSZXNvdXJjZSI6Imh0dHBzOi8vY2RuLWxmcy5oZi5jby9yZXBvcy8wMi8yNy8wMjI3NDJmYmRmNGE3NjAwMGZlODJlNGM2MzdkZjhjOTNlOWQ2NTY2NzQ4NjA5NTg2NTJjNTdjNDMzYzQzOGM2L2Q1OGI4MWJhNjY1OTk1MTc2MTA0YTY2ZjdiN2QwYjllMmU0MTI1NjRmNmIzMzkxN2U4NGM0ZWI5MjA5NDY4NDE%7EcmVzcG9uc2UtY29udGVudC1kaXNwb3NpdGlvbj0qIn1dfQ__&Signature=FZegaxqqXa9go3fA9ds9Yb2s-IsYUgtHTnuw1lPpjyIebHawo25TyRPZh1guw30BoPIJUcWlPr8AIxPOK%7EwfLfOccApADwd95kKQRaOxd0QuMY893eflWdmO%7EjwkPNQbn2UpYRIHCcRaKwptMp13LOCPtGHUwYNuM-KVVtK3chpyVCE7pjhhemEKw5bui4LOTOI%7Evird56Dz2PVTao3W5gatzukB5XMi147lEeEU2%7EjPGy9DA62VhG4dN1hU2jnVosYKXnZB0LU5PY%7EOu2xYt12UsZP8jdyFTXfh%7EMXaXqqY-N-i8h75sF15QxEHYGtxUhJJ2Dvtl5aLH6DKK10aEA__&Key-Pair-Id=K3RPWS32NSSJCE: HTTPSConnectionPool(host='cdn-lfs.hf.co', port=443): Read timed out.\n",
      "Trying to resume download...\n"
     ]
    },
    {
     "data": {
      "application/vnd.jupyter.widget-view+json": {
       "model_id": "1688d5e7ae9d491589b4ff04e415c1b6",
       "version_major": 2,
       "version_minor": 0
      },
      "text/plain": [
       "model.safetensors:  30%|##9       | 220M/738M [00:00<?, ?B/s]"
      ]
     },
     "metadata": {},
     "output_type": "display_data"
    }
   ],
   "source": [
    "# Prerequisites\n",
    "from tabulate import tabulate\n",
    "from transformers import pipeline\n",
    "import json\n",
    "import pandas as pd\n",
    "import matplotlib.pyplot as plt\n",
    "import pickle\n",
    "import os\n",
    "\n",
    "# Load the model and create a pipeline for zero-shot classification (1min loading + classifying with 89 labels)\n",
    "classifier = pipeline(\"zero-shot-classification\", model=\"sileod/deberta-v3-base-tasksource-nli\")\n",
    "# tried:\n",
    "# facebook/bart-large-mnli\n",
    "# \n",
    "\n",
    "# get candidate labels\n",
    "with open(\"packing_label_structure.json\", \"r\") as file:\n",
    "    candidate_labels = json.load(file)\n",
    "keys_list = list(candidate_labels.keys())\n",
    "\n",
    "# Load test data (in list of dictionaries)\n",
    "with open(\"test_data.json\", \"r\") as file:\n",
    "    packing_data = json.load(file)\n",
    "# Extract all trip descriptions and trip_types\n",
    "trip_descriptions = [trip['description'] for trip in packing_data]\n",
    "trip_types = [trip['trip_types'] for trip in packing_data]\n",
    "\n",
    "# Access the first trip description\n",
    "first_trip = trip_descriptions[1]\n",
    "# Get the packing list for the secondfirst trip\n",
    "first_trip_type = trip_types[1]\n",
    "\n",
    "print(f\"First trip: {first_trip} \\n\")\n",
    "print(f\"Trip type: {first_trip_type}\")"
   ]
  },
  {
   "cell_type": "code",
   "execution_count": null,
   "id": "3a762755-872d-43a6-b666-874d6133488c",
   "metadata": {},
   "outputs": [],
   "source": [
    "# function that returns pandas data frame with predictions\n",
    "\n",
    "cut_off = 0.5  # used to choose which activities are relevant\n",
    "\n",
    "def pred_trip(trip_descr, trip_type, cut_off):\n",
    "    # Create an empty DataFrame with specified columns\n",
    "    df = pd.DataFrame(columns=['superclass', 'pred_class'])\n",
    "    for i, key in enumerate(keys_list):\n",
    "        if key == 'activities':\n",
    "            result = classifier(trip_descr, candidate_labels[key], multi_label=True)\n",
    "            indices = [i for i, score in enumerate(result['scores']) if score > cut_off]\n",
    "            classes = [result['labels'][i] for i in indices]\n",
    "        else:\n",
    "            result = classifier(trip_descr, candidate_labels[key])\n",
    "            classes = result[\"labels\"][0]\n",
    "        print(result)\n",
    "        print(classes)\n",
    "        print(i)\n",
    "        df.loc[i] = [key, classes]\n",
    "    df['true_class'] = trip_type\n",
    "    return df"
   ]
  },
  {
   "cell_type": "code",
   "execution_count": null,
   "id": "3b4f3193-3bdd-453c-8664-df84f955600c",
   "metadata": {},
   "outputs": [],
   "source": [
    "# function for accuracy, perc true classes identified and perc wrong pred classes\n",
    "\n",
    "def perf_measure(df):\n",
    "    df['same_value'] = df['pred_class'] == df['true_class']\n",
    "    correct = sum(df.loc[df.index != 1, 'same_value'])\n",
    "    total = len(df['same_value'])\n",
    "    accuracy = correct/total\n",
    "    pred_class = df.loc[df.index == 1, 'pred_class'].iloc[0]\n",
    "    true_class = df.loc[df.index == 1, 'true_class'].iloc[0]\n",
    "    correct = [label for label in pred_class if label in true_class]\n",
    "    num_correct = len(correct)\n",
    "    correct_perc = num_correct/len(true_class)\n",
    "    num_pred = len(pred_class)\n",
    "    wrong_perc = (num_pred - num_correct)/num_pred\n",
    "    df_perf = pd.DataFrame({\n",
    "    'accuracy': [accuracy],\n",
    "    'true_ident': [correct_perc],\n",
    "    'false_pred': [wrong_perc]\n",
    "    })\n",
    "    return(df_perf)"
   ]
  },
  {
   "cell_type": "markdown",
   "id": "62c5c18c-58f4-465c-a188-c57cfa7ffa90",
   "metadata": {},
   "source": [
    "**Now do the same for all trips**"
   ]
  },
  {
   "cell_type": "code",
   "execution_count": null,
   "id": "4dd01755-be8d-4904-8494-ac28aba2fee7",
   "metadata": {
    "scrolled": true
   },
   "outputs": [],
   "source": [
    "result_list = []\n",
    "performance = pd.DataFrame(columns=['accuracy', 'true_ident', 'false_pred'])\n",
    " \n",
    "for i in range(len(trip_descriptions)):\n",
    "    current_trip = trip_descriptions[i]\n",
    "    current_type = trip_types[i]\n",
    "    df = pred_trip(current_trip, current_type, cut_off = 0.5)\n",
    "    print(df)\n",
    "    \n",
    "    # accuracy, perc true classes identified and perc wrong pred classes\n",
    "    performance = pd.concat([performance, perf_measure(df)])\n",
    "    print(performance)\n",
    "    \n",
    "    result_list.append(df)"
   ]
  },
  {
   "cell_type": "markdown",
   "id": "b5c08703-7166-4d03-9d6b-ee2c12608134",
   "metadata": {},
   "source": [
    "**Compute average performance measures**"
   ]
  },
  {
   "cell_type": "code",
   "execution_count": null,
   "id": "eb33fd31-94e6-40b5-9c36-a32effe77c01",
   "metadata": {},
   "outputs": [],
   "source": [
    "# Extract \"same_value\" column from each DataFrame\n",
    "sv_columns = [df['same_value'] for df in result_list]  # 'same' needs to be changed\n",
    "sv_columns.insert(0, result_list[0]['superclass'])\n",
    "\n",
    "# Combine into a new DataFrame (columns side-by-side)\n",
    "sv_df = pd.concat(sv_columns, axis=1)\n",
    "\n",
    "print(sv_df)"
   ]
  },
  {
   "cell_type": "code",
   "execution_count": null,
   "id": "bf7546cb-79ce-49ad-8cee-54d02239220c",
   "metadata": {},
   "outputs": [],
   "source": [
    "# Compute accuracy per superclass (row means of same_value matrix excluding the first column)\n",
    "row_means = sv_df.iloc[:, 1:].mean(axis=1)\n",
    "\n",
    "df_row_means = pd.DataFrame({\n",
    "    'superclass': sv_df['superclass'],\n",
    "    'accuracy': row_means\n",
    "})\n",
    "\n",
    "print(df_row_means)"
   ]
  },
  {
   "cell_type": "code",
   "execution_count": null,
   "id": "fd232953-59e8-4f28-9ce8-11515a2c310b",
   "metadata": {
    "scrolled": true
   },
   "outputs": [],
   "source": [
    "# Compute performance measures per trip (mean for each column of performance table)\n",
    "column_means = performance.mean()\n",
    "print(column_means)\n",
    "\n",
    "# Plot histograms for all numeric columns\n",
    "performance.hist(bins=10, figsize=(10, 6))\n",
    "plt.tight_layout()\n",
    "plt.show()"
   ]
  },
  {
   "cell_type": "code",
   "execution_count": null,
   "id": "bd682c84-3eb1-4a8d-9621-b741e98e4537",
   "metadata": {},
   "outputs": [],
   "source": [
    "# save results\n",
    "# Example data for one model\n",
    "model_name = 'model_b_sileod-deberta-v3-base-tasksource-nli'\n",
    "# Structure to save\n",
    "model_result = {\n",
    "    'model': model_name,\n",
    "    'predictions': result_list,\n",
    "    'performance': performance,\n",
    "    'perf_summary': column_means,\n",
    "    'perf_superclass': df_row_means\n",
    "}\n",
    "\n",
    "# File path with folder\n",
    "filename = os.path.join('results', f'{model_name}_results.pkl')\n",
    "\n",
    "# Save the object\n",
    "with open(filename, 'wb') as f:\n",
    "    pickle.dump(model_result, f)"
   ]
  },
  {
   "cell_type": "code",
   "execution_count": null,
   "id": "905eab28-1735-4c0e-abf8-0ffc5e799eb0",
   "metadata": {},
   "outputs": [],
   "source": [
    "# load all model results later for comparison\n",
    "with open(f'{model_name}_results.pkl', 'rb') as f:\n",
    "    model_result = pickle.load(f)\n"
   ]
  },
  {
   "cell_type": "markdown",
   "id": "17483df4-55c4-41cd-b8a9-61f7a5c7e8a3",
   "metadata": {},
   "source": [
    "**Use gradio for user input**"
   ]
  },
  {
   "cell_type": "code",
   "execution_count": 66,
   "id": "cb7fd425-d0d6-458d-97ca-2150dc55f206",
   "metadata": {},
   "outputs": [
    {
     "name": "stdout",
     "output_type": "stream",
     "text": [
      "Running on local URL:  http://127.0.0.1:7861\n",
      "Running on public URL: https://aa06d5d85ffadaa92b.gradio.live\n",
      "\n",
      "This share link expires in 72 hours. For free permanent hosting and GPU upgrades, run `gradio deploy` from Terminal to deploy to Spaces (https://huggingface.co/spaces)\n"
     ]
    },
    {
     "data": {
      "text/html": [
       "<div><iframe src=\"https://aa06d5d85ffadaa92b.gradio.live\" width=\"100%\" height=\"500\" allow=\"autoplay; camera; microphone; clipboard-read; clipboard-write;\" frameborder=\"0\" allowfullscreen></iframe></div>"
      ],
      "text/plain": [
       "<IPython.core.display.HTML object>"
      ]
     },
     "metadata": {},
     "output_type": "display_data"
    },
    {
     "name": "stdout",
     "output_type": "stream",
     "text": [
      "0\n",
      "1\n",
      "2\n",
      "3\n",
      "4\n",
      "5\n",
      "6\n",
      "7\n",
      "8\n",
      "0\n",
      "1\n",
      "2\n",
      "3\n",
      "4\n",
      "5\n",
      "6\n",
      "7\n",
      "8\n"
     ]
    }
   ],
   "source": [
    "# use model with gradio\n",
    "from transformers import pipeline\n",
    "import gradio as gr\n",
    "\n",
    "# make a function for what I am doing\n",
    "def classify(text):\n",
    "    df = pd.DataFrame(columns=['Superclass', 'class'])\n",
    "    for i, key in enumerate(keys_list):\n",
    "        # Run the classification (ca 30 seconds classifying)\n",
    "        if key == 'activities':\n",
    "            result = classifier(text, candidate_labels[key], multi_label=True)\n",
    "            classes = [result['labels'][i] for i in indices]\n",
    "        else:\n",
    "            result = classifier(text, candidate_labels[key])\n",
    "            classes = result[\"labels\"][0]\n",
    "        print(i)\n",
    "        df.loc[i] = [key, classes]\n",
    "\n",
    "    return df\n",
    "\n",
    "demo = gr.Interface(\n",
    "    fn=classify,\n",
    "    inputs=\"text\",\n",
    "    outputs=\"dataframe\",\n",
    "    title=\"Zero-Shot Classification\",\n",
    "    description=\"Enter a text describing your trip\",\n",
    ")\n",
    "\n",
    "# Launch the Gradio app\n",
    "if __name__ == \"__main__\":\n",
    "    demo.launch(share=True)"
   ]
  },
  {
   "cell_type": "markdown",
   "id": "8e856a9c-a66c-4c4b-b7cf-8c52abbbc6fa",
   "metadata": {},
   "source": [
    "Use model with gradio"
   ]
  },
  {
   "cell_type": "code",
   "execution_count": 4,
   "id": "521d9118-b59d-4cc6-b637-20202eaf8f33",
   "metadata": {
    "scrolled": true
   },
   "outputs": [
    {
     "name": "stdout",
     "output_type": "stream",
     "text": [
      "Running on local URL:  http://127.0.0.1:7861\n",
      "Running on public URL: https://0f70ba5369d721cf8f.gradio.live\n",
      "\n",
      "This share link expires in 72 hours. For free permanent hosting and GPU upgrades, run `gradio deploy` from Terminal to deploy to Spaces (https://huggingface.co/spaces)\n"
     ]
    },
    {
     "data": {
      "text/html": [
       "<div><iframe src=\"https://0f70ba5369d721cf8f.gradio.live\" width=\"100%\" height=\"500\" allow=\"autoplay; camera; microphone; clipboard-read; clipboard-write;\" frameborder=\"0\" allowfullscreen></iframe></div>"
      ],
      "text/plain": [
       "<IPython.core.display.HTML object>"
      ]
     },
     "metadata": {},
     "output_type": "display_data"
    }
   ],
   "source": [
    "# Define the Gradio interface\n",
    "def classify(text):\n",
    "    return classifier(text, class_labels)\n",
    "\n",
    "demo = gr.Interface(\n",
    "    fn=classify,\n",
    "    inputs=\"text\",\n",
    "    outputs=\"json\",\n",
    "    title=\"Zero-Shot Classification\",\n",
    "    description=\"Enter a text describing your trip\",\n",
    ")\n",
    "\n",
    "# Launch the Gradio app\n",
    "if __name__ == \"__main__\":\n",
    "    demo.launch(share=True)"
   ]
  },
  {
   "cell_type": "code",
   "execution_count": null,
   "id": "c8da1c90-d3a3-4b08-801c-b3afa17b2633",
   "metadata": {},
   "outputs": [],
   "source": []
  }
 ],
 "metadata": {
  "kernelspec": {
   "display_name": "Python (huggingface_env)",
   "language": "python",
   "name": "huggingface_env"
  },
  "language_info": {
   "codemirror_mode": {
    "name": "ipython",
    "version": 3
   },
   "file_extension": ".py",
   "mimetype": "text/x-python",
   "name": "python",
   "nbconvert_exporter": "python",
   "pygments_lexer": "ipython3",
   "version": "3.8.20"
  }
 },
 "nbformat": 4,
 "nbformat_minor": 5
}
